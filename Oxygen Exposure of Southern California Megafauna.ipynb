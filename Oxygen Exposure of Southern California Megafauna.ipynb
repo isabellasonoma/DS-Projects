{
 "cells": [
  {
   "cell_type": "code",
   "execution_count": 158,
   "id": "b8ae4fa6",
   "metadata": {},
   "outputs": [],
   "source": [
    "import matplotlib.pyplot as plt\n",
    "from scipy import stats\n",
    "import numpy as np\n",
    "import pandas as pd\n",
    "plt.style.use('ggplot')\n",
    "from pandas.plotting import scatter_matrix\n",
    "from sklearn.model_selection import train_test_split\n",
    "from sklearn.model_selection import cross_val_score\n",
    "from sklearn.linear_model import LinearRegression\n",
    "from sklearn.tree import DecisionTreeRegressor\n",
    "from sklearn.metrics import mean_squared_error\n",
    "from sklearn.ensemble import RandomForestRegressor"
   ]
  },
  {
   "cell_type": "code",
   "execution_count": 4,
   "id": "d93400f6",
   "metadata": {},
   "outputs": [
    {
     "name": "stdout",
     "output_type": "stream",
     "text": [
      "Collecting pyarrow\n",
      "  Downloading pyarrow-11.0.0-cp39-cp39-win_amd64.whl (20.6 MB)\n",
      "Requirement already satisfied: numpy>=1.16.6 in c:\\users\\isabe\\anaconda3\\lib\\site-packages (from pyarrow) (1.21.5)\n",
      "Installing collected packages: pyarrow\n",
      "Successfully installed pyarrow-11.0.0\n",
      "Note: you may need to restart the kernel to use updated packages.\n"
     ]
    }
   ],
   "source": [
    "pip install pyarrow"
   ]
  },
  {
   "cell_type": "code",
   "execution_count": 7,
   "id": "1606d09e",
   "metadata": {
    "scrolled": true
   },
   "outputs": [
    {
     "data": {
      "text/html": [
       "<div>\n",
       "<style scoped>\n",
       "    .dataframe tbody tr th:only-of-type {\n",
       "        vertical-align: middle;\n",
       "    }\n",
       "\n",
       "    .dataframe tbody tr th {\n",
       "        vertical-align: top;\n",
       "    }\n",
       "\n",
       "    .dataframe thead th {\n",
       "        text-align: right;\n",
       "    }\n",
       "</style>\n",
       "<table border=\"1\" class=\"dataframe\">\n",
       "  <thead>\n",
       "    <tr style=\"text-align: right;\">\n",
       "      <th></th>\n",
       "      <th>event_id</th>\n",
       "      <th>azimuth</th>\n",
       "      <th>zenith</th>\n",
       "    </tr>\n",
       "  </thead>\n",
       "  <tbody>\n",
       "    <tr>\n",
       "      <th>0</th>\n",
       "      <td>2092</td>\n",
       "      <td>1</td>\n",
       "      <td>1</td>\n",
       "    </tr>\n",
       "    <tr>\n",
       "      <th>1</th>\n",
       "      <td>7344</td>\n",
       "      <td>1</td>\n",
       "      <td>1</td>\n",
       "    </tr>\n",
       "    <tr>\n",
       "      <th>2</th>\n",
       "      <td>9482</td>\n",
       "      <td>1</td>\n",
       "      <td>1</td>\n",
       "    </tr>\n",
       "  </tbody>\n",
       "</table>\n",
       "</div>"
      ],
      "text/plain": [
       "   event_id  azimuth  zenith\n",
       "0      2092        1       1\n",
       "1      7344        1       1\n",
       "2      9482        1       1"
      ]
     },
     "execution_count": 7,
     "metadata": {},
     "output_type": "execute_result"
    }
   ],
   "source": [
    "pd.read_parquet('sample_submission.parquet', engine='pyarrow')"
   ]
  },
  {
   "cell_type": "code",
   "execution_count": 23,
   "id": "b027eac9",
   "metadata": {},
   "outputs": [
    {
     "data": {
      "text/plain": [
       "(2404, 1)"
      ]
     },
     "execution_count": 23,
     "metadata": {},
     "output_type": "execute_result"
    }
   ],
   "source": [
    "obs = pd.read_csv(r'C:\\Users\\Isabe\\Oxygen Exposure of Southern California Megafauna\\ROVObservationData.csv')\n",
    "obs.shape"
   ]
  },
  {
   "cell_type": "code",
   "execution_count": 27,
   "id": "2f4ef2f1",
   "metadata": {},
   "outputs": [
    {
     "data": {
      "text/plain": [
       "DateTime|\"Easting\"|\"Northing\"|\"Depth\"|\"Temp\"|\"Sal\"|\"Oxy\"|\"Grain\"|\"Bedform\"|\"ac\"|\"ae\"|\"an\"|\"ap\"|\"as\"|\"ba\"|\"bas\"|\"bc\"|\"bgo\"|\"bgu\"|\"bi\"|\"bo\"|\"br\"|\"bs\"|\"ca\"|\"cc\"|\"cd\"|\"cg\"|\"ch\"|\"com\"|\"cp\"|\"cr\"|\"cs\"|\"cu\"|\"de\"|\"dp\"|\"eo\"|\"ep\"|\"eu\"|\"fej\"|\"fl\"|\"fo\"|\"fr\"|\"go\"|\"ha\"|\"hal\"|\"hb\"|\"hl\"|\"ii\"|\"io\"|\"ir\"|\"jde\"|\"jm\"|\"kb\"|\"kw\"|\"lc\"|\"lcom\"|\"li\"|\"ln\"|\"lo\"|\"ls\"|\"lss\"|\"lu\"|\"ly\"|\"lz\"|\"mc\"|\"mr\"|\"ms\"|\"mse\"|\"ol\"|\"ow\"|\"pa\"|\"pc\"|\"pem\"|\"pg\"|\"ph\"|\"pi\"|\"pl\"|\"po\"|\"pp\"|\"ppl\"|\"ps\"|\"pt\"|\"pyr\"|\"ra\"|\"rb\"|\"rh\"|\"ro\"|\"ru\"|\"rw\"|\"sa\"|\"sb\"|\"sc\"|\"scom\"|\"sd\"|\"se\"|\"sec\"|\"sh\"|\"shc\"|\"sl\"|\"sm\"|\"spo\"|\"sq\"|\"ss\"|\"st\"|\"te\"|\"th\"|\"ti\"|\"tr\"|\"unkss\"|\"vm\"|\"vr\"|\"vs\"|\"wfs\"|\"xl\"|\"ye\"|\"za\"|\"bl\"|\"hc\"|\"pe\"|\"py\"    object\n",
       "dtype: object"
      ]
     },
     "execution_count": 27,
     "metadata": {},
     "output_type": "execute_result"
    }
   ],
   "source": [
    "obs.dtypes"
   ]
  },
  {
   "cell_type": "code",
   "execution_count": 119,
   "id": "2807bef9",
   "metadata": {},
   "outputs": [],
   "source": [
    "name = \"DateTime|Easting|Northing|Depth|Temp|Sal|Oxy|Grain|Bedform|ac|ae|an|ap|as|ba|bas|bc|bgo|bgu|bi|bo|br|bs|ca|cc|cd|cg|ch|com|cp|cr|cs|cu|de|dp|eo|ep|eu|fej|fl|fo|fr|go|ha|hal|hb|hl|ii|io|ir|jde|jm|kb|kw|lc|lcom|li|ln|lo|ls|lss|lu|ly|lz|mc|mr|ms|mse|ol|ow|pa|pc|pem|pg|ph|pi|pl|po|pp|ppl|ps|pt|pyr|ra|rb|rh|ro|ru|rw|sa|sb|sc|scom|sd|se|sec|sh|shc|sl|sm|spo|sq|ss|st|te|th|ti|tr|unkss|vm|vr|vs|wfs|xl|ye|za|bl|hc|pe|py\""
   ]
  },
  {
   "cell_type": "code",
   "execution_count": 133,
   "id": "8a3f8dfa",
   "metadata": {},
   "outputs": [],
   "source": [
    "title = name.split('|')"
   ]
  },
  {
   "cell_type": "code",
   "execution_count": 122,
   "id": "fedd3960",
   "metadata": {},
   "outputs": [],
   "source": [
    "new = pd.DataFrame()\n",
    "new = pd.DataFrame(columns = title)"
   ]
  },
  {
   "cell_type": "code",
   "execution_count": 124,
   "id": "7ed8d762",
   "metadata": {},
   "outputs": [
    {
     "data": {
      "text/plain": [
       "120"
      ]
     },
     "execution_count": 124,
     "metadata": {},
     "output_type": "execute_result"
    }
   ],
   "source": [
    "len(title)"
   ]
  },
  {
   "cell_type": "code",
   "execution_count": 127,
   "id": "b38aab00",
   "metadata": {},
   "outputs": [],
   "source": [
    "i=0\n",
    "while(i<2404):\n",
    "    data = str(obs.iloc[i][0])\n",
    "    split = data.split('|')\n",
    "    new.loc[len(new)] = split\n",
    "    i = i+1"
   ]
  },
  {
   "cell_type": "code",
   "execution_count": 151,
   "id": "f6a81f63",
   "metadata": {},
   "outputs": [],
   "source": [
    "column_names = list(new.columns.values)\n",
    "n=0\n",
    "m=0\n",
    "while(m<120):\n",
    "    while(n<2404):\n",
    "        new.loc[n][column_names[m]] = new.loc[n][column_names[m]].replace('\"', '')\n",
    "        n=n+1\n",
    "    n=0\n",
    "    m=m+1\n"
   ]
  },
  {
   "cell_type": "code",
   "execution_count": 156,
   "id": "770b1bc9",
   "metadata": {},
   "outputs": [
    {
     "data": {
      "text/html": [
       "<div>\n",
       "<style scoped>\n",
       "    .dataframe tbody tr th:only-of-type {\n",
       "        vertical-align: middle;\n",
       "    }\n",
       "\n",
       "    .dataframe tbody tr th {\n",
       "        vertical-align: top;\n",
       "    }\n",
       "\n",
       "    .dataframe thead th {\n",
       "        text-align: right;\n",
       "    }\n",
       "</style>\n",
       "<table border=\"1\" class=\"dataframe\">\n",
       "  <thead>\n",
       "    <tr style=\"text-align: right;\">\n",
       "      <th></th>\n",
       "      <th>DateTime</th>\n",
       "      <th>Easting</th>\n",
       "      <th>Northing</th>\n",
       "      <th>Depth</th>\n",
       "      <th>Temp</th>\n",
       "      <th>Sal</th>\n",
       "      <th>Oxy</th>\n",
       "      <th>Grain</th>\n",
       "      <th>Bedform</th>\n",
       "      <th>ac</th>\n",
       "      <th>...</th>\n",
       "      <th>vr</th>\n",
       "      <th>vs</th>\n",
       "      <th>wfs</th>\n",
       "      <th>xl</th>\n",
       "      <th>ye</th>\n",
       "      <th>za</th>\n",
       "      <th>bl</th>\n",
       "      <th>hc</th>\n",
       "      <th>pe</th>\n",
       "      <th>py</th>\n",
       "    </tr>\n",
       "  </thead>\n",
       "  <tbody>\n",
       "    <tr>\n",
       "      <th>count</th>\n",
       "      <td>2404</td>\n",
       "      <td>2404</td>\n",
       "      <td>2404</td>\n",
       "      <td>2404</td>\n",
       "      <td>2404</td>\n",
       "      <td>2404</td>\n",
       "      <td>2404</td>\n",
       "      <td>2404</td>\n",
       "      <td>2404</td>\n",
       "      <td>2404</td>\n",
       "      <td>...</td>\n",
       "      <td>2404</td>\n",
       "      <td>2404</td>\n",
       "      <td>2404</td>\n",
       "      <td>2404</td>\n",
       "      <td>2404</td>\n",
       "      <td>2404</td>\n",
       "      <td>2404</td>\n",
       "      <td>2404</td>\n",
       "      <td>2404</td>\n",
       "      <td>2404</td>\n",
       "    </tr>\n",
       "    <tr>\n",
       "      <th>unique</th>\n",
       "      <td>2148</td>\n",
       "      <td>2181</td>\n",
       "      <td>2181</td>\n",
       "      <td>1333</td>\n",
       "      <td>1305</td>\n",
       "      <td>1098</td>\n",
       "      <td>1109</td>\n",
       "      <td>5</td>\n",
       "      <td>11</td>\n",
       "      <td>9</td>\n",
       "      <td>...</td>\n",
       "      <td>8</td>\n",
       "      <td>3</td>\n",
       "      <td>9</td>\n",
       "      <td>2</td>\n",
       "      <td>5</td>\n",
       "      <td>2</td>\n",
       "      <td>3</td>\n",
       "      <td>2</td>\n",
       "      <td>2</td>\n",
       "      <td>2</td>\n",
       "    </tr>\n",
       "    <tr>\n",
       "      <th>top</th>\n",
       "      <td>2014-01-25 10:27:06</td>\n",
       "      <td>472694.197070615</td>\n",
       "      <td>3644183.78831685</td>\n",
       "      <td>23.132</td>\n",
       "      <td>14.01</td>\n",
       "      <td>33.3948</td>\n",
       "      <td>4.769</td>\n",
       "      <td>s2</td>\n",
       "      <td>f</td>\n",
       "      <td>0</td>\n",
       "      <td>...</td>\n",
       "      <td>0</td>\n",
       "      <td>0</td>\n",
       "      <td>0</td>\n",
       "      <td>0</td>\n",
       "      <td>0</td>\n",
       "      <td>0</td>\n",
       "      <td>0</td>\n",
       "      <td>0</td>\n",
       "      <td>0</td>\n",
       "      <td>0</td>\n",
       "    </tr>\n",
       "    <tr>\n",
       "      <th>freq</th>\n",
       "      <td>5</td>\n",
       "      <td>5</td>\n",
       "      <td>5</td>\n",
       "      <td>30</td>\n",
       "      <td>30</td>\n",
       "      <td>30</td>\n",
       "      <td>30</td>\n",
       "      <td>1239</td>\n",
       "      <td>1223</td>\n",
       "      <td>2315</td>\n",
       "      <td>...</td>\n",
       "      <td>2377</td>\n",
       "      <td>2398</td>\n",
       "      <td>2326</td>\n",
       "      <td>2403</td>\n",
       "      <td>2353</td>\n",
       "      <td>2403</td>\n",
       "      <td>2402</td>\n",
       "      <td>2402</td>\n",
       "      <td>2403</td>\n",
       "      <td>2403</td>\n",
       "    </tr>\n",
       "  </tbody>\n",
       "</table>\n",
       "<p>4 rows × 120 columns</p>\n",
       "</div>"
      ],
      "text/plain": [
       "                   DateTime           Easting          Northing   Depth  \\\n",
       "count                  2404              2404              2404    2404   \n",
       "unique                 2148              2181              2181    1333   \n",
       "top     2014-01-25 10:27:06  472694.197070615  3644183.78831685  23.132   \n",
       "freq                      5                 5                 5      30   \n",
       "\n",
       "         Temp      Sal    Oxy Grain Bedform    ac  ...    vr    vs   wfs  \\\n",
       "count    2404     2404   2404  2404    2404  2404  ...  2404  2404  2404   \n",
       "unique   1305     1098   1109     5      11     9  ...     8     3     9   \n",
       "top     14.01  33.3948  4.769    s2       f     0  ...     0     0     0   \n",
       "freq       30       30     30  1239    1223  2315  ...  2377  2398  2326   \n",
       "\n",
       "          xl    ye    za    bl    hc    pe    py  \n",
       "count   2404  2404  2404  2404  2404  2404  2404  \n",
       "unique     2     5     2     3     2     2     2  \n",
       "top        0     0     0     0     0     0     0  \n",
       "freq    2403  2353  2403  2402  2402  2403  2403  \n",
       "\n",
       "[4 rows x 120 columns]"
      ]
     },
     "execution_count": 156,
     "metadata": {},
     "output_type": "execute_result"
    }
   ],
   "source": [
    "new.describe()"
   ]
  },
  {
   "cell_type": "code",
   "execution_count": 168,
   "id": "1c1f4414",
   "metadata": {},
   "outputs": [
    {
     "data": {
      "text/plain": [
       "str"
      ]
     },
     "execution_count": 168,
     "metadata": {},
     "output_type": "execute_result"
    }
   ],
   "source": [
    "type(new.iloc[0][1])"
   ]
  },
  {
   "cell_type": "code",
   "execution_count": null,
   "id": "04dcbe27",
   "metadata": {},
   "outputs": [],
   "source": []
  }
 ],
 "metadata": {
  "kernelspec": {
   "display_name": "Python 3 (ipykernel)",
   "language": "python",
   "name": "python3"
  },
  "language_info": {
   "codemirror_mode": {
    "name": "ipython",
    "version": 3
   },
   "file_extension": ".py",
   "mimetype": "text/x-python",
   "name": "python",
   "nbconvert_exporter": "python",
   "pygments_lexer": "ipython3",
   "version": "3.9.12"
  }
 },
 "nbformat": 4,
 "nbformat_minor": 5
}
