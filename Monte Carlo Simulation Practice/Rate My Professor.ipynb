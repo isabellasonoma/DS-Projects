{
 "cells": [
  {
   "cell_type": "code",
   "execution_count": 6,
   "id": "a64ba289",
   "metadata": {},
   "outputs": [],
   "source": [
    "import matplotlib.pyplot as plt\n",
    "from scipy import stats\n",
    "import numpy as np\n",
    "import pandas as pd\n",
    "import requests\n",
    "from bs4 import BeautifulSoup"
   ]
  },
  {
   "cell_type": "code",
   "execution_count": 7,
   "id": "c9aa2938",
   "metadata": {},
   "outputs": [],
   "source": [
    "from datetime import datetime\n",
    "import re\n",
    "from pprint import pprint\n",
    "import json\n",
    "import math"
   ]
  },
  {
   "cell_type": "code",
   "execution_count": 9,
   "id": "ce77b72e",
   "metadata": {},
   "outputs": [],
   "source": [
    "class RateMyProfScraper:        \n",
    "        def __init__(self,schoolid):\n",
    "            self.UniversityId = schoolid\n",
    "            self.professorlist = self.createprofessorlist()\n",
    "            self.indexnumber = False\n",
    "\n",
    "        def createprofessorlist(self):#creates List object that include basic information on all Professors from the IDed University\n",
    "            tempprofessorlist = []\n",
    "            num_of_prof = self.GetNumOfProfessors(self.UniversityId)\n",
    "            num_of_pages = math.ceil(num_of_prof / 20)\n",
    "            i = 1\n",
    "            while (i <= num_of_pages):# the loop insert all professor into list\n",
    "                page = requests.get(\"http://www.ratemyprofessors.com/filter/professor/?&page=\" + str(\n",
    "                    i) + \"&filter=teacherlastname_sort_s+asc&query=*%3A*&queryoption=TEACHER&queryBy=schoolId&sid=\" + str(\n",
    "                    self.UniversityId))\n",
    "                temp_jsonpage = json.loads(page.content)\n",
    "                temp_list = temp_jsonpage['professors']\n",
    "                tempprofessorlist.extend(temp_list)\n",
    "                i += 1\n",
    "            return tempprofessorlist\n",
    "\n",
    "        def GetNumOfProfessors(self,id):  # function returns the number of professors in the university of the given ID.\n",
    "            page = requests.get(\n",
    "                \"http://www.ratemyprofessors.com/filter/professor/?&page=1&filter=teacherlastname_sort_s+asc&query=*%3A*&queryoption=TEACHER&queryBy=schoolId&sid=\" + str(\n",
    "                    id))  # get request for page\n",
    "            temp_jsonpage = json.loads(page.content)\n",
    "            num_of_prof = temp_jsonpage[\n",
    "                              'remaining'] + 20  # get the number of professors at William Paterson University\n",
    "            return num_of_prof\n",
    "\n",
    "        def SearchProfessor(self, ProfessorName):\n",
    "            self.indexnumber = self.GetProfessorIndex(ProfessorName)\n",
    "            self.PrintProfessorInfo()\n",
    "            return self.indexnumber\n",
    "\n",
    "        def GetProfessorIndex(self,ProfessorName):  # function searches for professor in list\n",
    "            for i in range(0, len(self.professorlist)):\n",
    "                if (ProfessorName == (self.professorlist[i]['tFname'] + \" \" + self.professorlist[i]['tLname'])):\n",
    "                    return i\n",
    "            return False  # Return False is not found\n",
    "\n",
    "        def PrintProfessorInfo(self):  # print search professor's name and RMP score\n",
    "            if self.indexnumber == False:\n",
    "                print(\"error\")\n",
    "            else:\n",
    "                print(self.professorlist[self.indexnumber])\n",
    "\n",
    "        def PrintProfessorDetail(self,key):  # print search professor's name and RMP score\n",
    "            if self.indexnumber == False:\n",
    "                print(\"error\")\n",
    "                return \"error\"\n",
    "            else:\n",
    "                print(self.professorlist[self.indexnumber][key])\n",
    "                return self.professorlist[self.indexnumber][key]\n"
   ]
  },
  {
   "cell_type": "code",
   "execution_count": 10,
   "id": "67bf45eb",
   "metadata": {},
   "outputs": [
    {
     "ename": "JSONDecodeError",
     "evalue": "Expecting value: line 2 column 1 (char 1)",
     "output_type": "error",
     "traceback": [
      "\u001b[1;31m---------------------------------------------------------------------------\u001b[0m",
      "\u001b[1;31mJSONDecodeError\u001b[0m                           Traceback (most recent call last)",
      "Input \u001b[1;32mIn [10]\u001b[0m, in \u001b[0;36m<cell line: 1>\u001b[1;34m()\u001b[0m\n\u001b[1;32m----> 1\u001b[0m WilliamPatersonUniversity \u001b[38;5;241m=\u001b[39m \u001b[43mRateMyProfScraper\u001b[49m\u001b[43m(\u001b[49m\u001b[38;5;241;43m1205\u001b[39;49m\u001b[43m)\u001b[49m\n\u001b[0;32m      2\u001b[0m WilliamPatersonUniversity\u001b[38;5;241m.\u001b[39mSearchProfessor(\u001b[38;5;124m\"\u001b[39m\u001b[38;5;124mCyril Ku\u001b[39m\u001b[38;5;124m\"\u001b[39m)\n\u001b[0;32m      3\u001b[0m WilliamPatersonUniversity\u001b[38;5;241m.\u001b[39mPrintProfessorDetail(\u001b[38;5;124m\"\u001b[39m\u001b[38;5;124moverall_rating\u001b[39m\u001b[38;5;124m\"\u001b[39m)\n",
      "Input \u001b[1;32mIn [9]\u001b[0m, in \u001b[0;36mRateMyProfScraper.__init__\u001b[1;34m(self, schoolid)\u001b[0m\n\u001b[0;32m      2\u001b[0m \u001b[38;5;28;01mdef\u001b[39;00m \u001b[38;5;21m__init__\u001b[39m(\u001b[38;5;28mself\u001b[39m,schoolid):\n\u001b[0;32m      3\u001b[0m     \u001b[38;5;28mself\u001b[39m\u001b[38;5;241m.\u001b[39mUniversityId \u001b[38;5;241m=\u001b[39m schoolid\n\u001b[1;32m----> 4\u001b[0m     \u001b[38;5;28mself\u001b[39m\u001b[38;5;241m.\u001b[39mprofessorlist \u001b[38;5;241m=\u001b[39m \u001b[38;5;28;43mself\u001b[39;49m\u001b[38;5;241;43m.\u001b[39;49m\u001b[43mcreateprofessorlist\u001b[49m\u001b[43m(\u001b[49m\u001b[43m)\u001b[49m\n\u001b[0;32m      5\u001b[0m     \u001b[38;5;28mself\u001b[39m\u001b[38;5;241m.\u001b[39mindexnumber \u001b[38;5;241m=\u001b[39m \u001b[38;5;28;01mFalse\u001b[39;00m\n",
      "Input \u001b[1;32mIn [9]\u001b[0m, in \u001b[0;36mRateMyProfScraper.createprofessorlist\u001b[1;34m(self)\u001b[0m\n\u001b[0;32m      7\u001b[0m \u001b[38;5;28;01mdef\u001b[39;00m \u001b[38;5;21mcreateprofessorlist\u001b[39m(\u001b[38;5;28mself\u001b[39m):\u001b[38;5;66;03m#creates List object that include basic information on all Professors from the IDed University\u001b[39;00m\n\u001b[0;32m      8\u001b[0m     tempprofessorlist \u001b[38;5;241m=\u001b[39m []\n\u001b[1;32m----> 9\u001b[0m     num_of_prof \u001b[38;5;241m=\u001b[39m \u001b[38;5;28;43mself\u001b[39;49m\u001b[38;5;241;43m.\u001b[39;49m\u001b[43mGetNumOfProfessors\u001b[49m\u001b[43m(\u001b[49m\u001b[38;5;28;43mself\u001b[39;49m\u001b[38;5;241;43m.\u001b[39;49m\u001b[43mUniversityId\u001b[49m\u001b[43m)\u001b[49m\n\u001b[0;32m     10\u001b[0m     num_of_pages \u001b[38;5;241m=\u001b[39m math\u001b[38;5;241m.\u001b[39mceil(num_of_prof \u001b[38;5;241m/\u001b[39m \u001b[38;5;241m20\u001b[39m)\n\u001b[0;32m     11\u001b[0m     i \u001b[38;5;241m=\u001b[39m \u001b[38;5;241m1\u001b[39m\n",
      "Input \u001b[1;32mIn [9]\u001b[0m, in \u001b[0;36mRateMyProfScraper.GetNumOfProfessors\u001b[1;34m(self, id)\u001b[0m\n\u001b[0;32m     22\u001b[0m \u001b[38;5;28;01mdef\u001b[39;00m \u001b[38;5;21mGetNumOfProfessors\u001b[39m(\u001b[38;5;28mself\u001b[39m,\u001b[38;5;28mid\u001b[39m):  \u001b[38;5;66;03m# function returns the number of professors in the university of the given ID.\u001b[39;00m\n\u001b[0;32m     23\u001b[0m     page \u001b[38;5;241m=\u001b[39m requests\u001b[38;5;241m.\u001b[39mget(\n\u001b[0;32m     24\u001b[0m         \u001b[38;5;124m\"\u001b[39m\u001b[38;5;124mhttp://www.ratemyprofessors.com/filter/professor/?&page=1&filter=teacherlastname_sort_s+asc&query=*\u001b[39m\u001b[38;5;124m%\u001b[39m\u001b[38;5;124m3A*&queryoption=TEACHER&queryBy=schoolId&sid=\u001b[39m\u001b[38;5;124m\"\u001b[39m \u001b[38;5;241m+\u001b[39m \u001b[38;5;28mstr\u001b[39m(\n\u001b[0;32m     25\u001b[0m             \u001b[38;5;28mid\u001b[39m))  \u001b[38;5;66;03m# get request for page\u001b[39;00m\n\u001b[1;32m---> 26\u001b[0m     temp_jsonpage \u001b[38;5;241m=\u001b[39m \u001b[43mjson\u001b[49m\u001b[38;5;241;43m.\u001b[39;49m\u001b[43mloads\u001b[49m\u001b[43m(\u001b[49m\u001b[43mpage\u001b[49m\u001b[38;5;241;43m.\u001b[39;49m\u001b[43mcontent\u001b[49m\u001b[43m)\u001b[49m\n\u001b[0;32m     27\u001b[0m     num_of_prof \u001b[38;5;241m=\u001b[39m temp_jsonpage[\n\u001b[0;32m     28\u001b[0m                       \u001b[38;5;124m'\u001b[39m\u001b[38;5;124mremaining\u001b[39m\u001b[38;5;124m'\u001b[39m] \u001b[38;5;241m+\u001b[39m \u001b[38;5;241m20\u001b[39m  \u001b[38;5;66;03m# get the number of professors at William Paterson University\u001b[39;00m\n\u001b[0;32m     29\u001b[0m     \u001b[38;5;28;01mreturn\u001b[39;00m num_of_prof\n",
      "File \u001b[1;32m~\\anaconda3\\lib\\json\\__init__.py:346\u001b[0m, in \u001b[0;36mloads\u001b[1;34m(s, cls, object_hook, parse_float, parse_int, parse_constant, object_pairs_hook, **kw)\u001b[0m\n\u001b[0;32m    341\u001b[0m     s \u001b[38;5;241m=\u001b[39m s\u001b[38;5;241m.\u001b[39mdecode(detect_encoding(s), \u001b[38;5;124m'\u001b[39m\u001b[38;5;124msurrogatepass\u001b[39m\u001b[38;5;124m'\u001b[39m)\n\u001b[0;32m    343\u001b[0m \u001b[38;5;28;01mif\u001b[39;00m (\u001b[38;5;28mcls\u001b[39m \u001b[38;5;129;01mis\u001b[39;00m \u001b[38;5;28;01mNone\u001b[39;00m \u001b[38;5;129;01mand\u001b[39;00m object_hook \u001b[38;5;129;01mis\u001b[39;00m \u001b[38;5;28;01mNone\u001b[39;00m \u001b[38;5;129;01mand\u001b[39;00m\n\u001b[0;32m    344\u001b[0m         parse_int \u001b[38;5;129;01mis\u001b[39;00m \u001b[38;5;28;01mNone\u001b[39;00m \u001b[38;5;129;01mand\u001b[39;00m parse_float \u001b[38;5;129;01mis\u001b[39;00m \u001b[38;5;28;01mNone\u001b[39;00m \u001b[38;5;129;01mand\u001b[39;00m\n\u001b[0;32m    345\u001b[0m         parse_constant \u001b[38;5;129;01mis\u001b[39;00m \u001b[38;5;28;01mNone\u001b[39;00m \u001b[38;5;129;01mand\u001b[39;00m object_pairs_hook \u001b[38;5;129;01mis\u001b[39;00m \u001b[38;5;28;01mNone\u001b[39;00m \u001b[38;5;129;01mand\u001b[39;00m \u001b[38;5;129;01mnot\u001b[39;00m kw):\n\u001b[1;32m--> 346\u001b[0m     \u001b[38;5;28;01mreturn\u001b[39;00m \u001b[43m_default_decoder\u001b[49m\u001b[38;5;241;43m.\u001b[39;49m\u001b[43mdecode\u001b[49m\u001b[43m(\u001b[49m\u001b[43ms\u001b[49m\u001b[43m)\u001b[49m\n\u001b[0;32m    347\u001b[0m \u001b[38;5;28;01mif\u001b[39;00m \u001b[38;5;28mcls\u001b[39m \u001b[38;5;129;01mis\u001b[39;00m \u001b[38;5;28;01mNone\u001b[39;00m:\n\u001b[0;32m    348\u001b[0m     \u001b[38;5;28mcls\u001b[39m \u001b[38;5;241m=\u001b[39m JSONDecoder\n",
      "File \u001b[1;32m~\\anaconda3\\lib\\json\\decoder.py:337\u001b[0m, in \u001b[0;36mJSONDecoder.decode\u001b[1;34m(self, s, _w)\u001b[0m\n\u001b[0;32m    332\u001b[0m \u001b[38;5;28;01mdef\u001b[39;00m \u001b[38;5;21mdecode\u001b[39m(\u001b[38;5;28mself\u001b[39m, s, _w\u001b[38;5;241m=\u001b[39mWHITESPACE\u001b[38;5;241m.\u001b[39mmatch):\n\u001b[0;32m    333\u001b[0m     \u001b[38;5;124;03m\"\"\"Return the Python representation of ``s`` (a ``str`` instance\u001b[39;00m\n\u001b[0;32m    334\u001b[0m \u001b[38;5;124;03m    containing a JSON document).\u001b[39;00m\n\u001b[0;32m    335\u001b[0m \n\u001b[0;32m    336\u001b[0m \u001b[38;5;124;03m    \"\"\"\u001b[39;00m\n\u001b[1;32m--> 337\u001b[0m     obj, end \u001b[38;5;241m=\u001b[39m \u001b[38;5;28;43mself\u001b[39;49m\u001b[38;5;241;43m.\u001b[39;49m\u001b[43mraw_decode\u001b[49m\u001b[43m(\u001b[49m\u001b[43ms\u001b[49m\u001b[43m,\u001b[49m\u001b[43m \u001b[49m\u001b[43midx\u001b[49m\u001b[38;5;241;43m=\u001b[39;49m\u001b[43m_w\u001b[49m\u001b[43m(\u001b[49m\u001b[43ms\u001b[49m\u001b[43m,\u001b[49m\u001b[43m \u001b[49m\u001b[38;5;241;43m0\u001b[39;49m\u001b[43m)\u001b[49m\u001b[38;5;241;43m.\u001b[39;49m\u001b[43mend\u001b[49m\u001b[43m(\u001b[49m\u001b[43m)\u001b[49m\u001b[43m)\u001b[49m\n\u001b[0;32m    338\u001b[0m     end \u001b[38;5;241m=\u001b[39m _w(s, end)\u001b[38;5;241m.\u001b[39mend()\n\u001b[0;32m    339\u001b[0m     \u001b[38;5;28;01mif\u001b[39;00m end \u001b[38;5;241m!=\u001b[39m \u001b[38;5;28mlen\u001b[39m(s):\n",
      "File \u001b[1;32m~\\anaconda3\\lib\\json\\decoder.py:355\u001b[0m, in \u001b[0;36mJSONDecoder.raw_decode\u001b[1;34m(self, s, idx)\u001b[0m\n\u001b[0;32m    353\u001b[0m     obj, end \u001b[38;5;241m=\u001b[39m \u001b[38;5;28mself\u001b[39m\u001b[38;5;241m.\u001b[39mscan_once(s, idx)\n\u001b[0;32m    354\u001b[0m \u001b[38;5;28;01mexcept\u001b[39;00m \u001b[38;5;167;01mStopIteration\u001b[39;00m \u001b[38;5;28;01mas\u001b[39;00m err:\n\u001b[1;32m--> 355\u001b[0m     \u001b[38;5;28;01mraise\u001b[39;00m JSONDecodeError(\u001b[38;5;124m\"\u001b[39m\u001b[38;5;124mExpecting value\u001b[39m\u001b[38;5;124m\"\u001b[39m, s, err\u001b[38;5;241m.\u001b[39mvalue) \u001b[38;5;28;01mfrom\u001b[39;00m \u001b[38;5;28mNone\u001b[39m\n\u001b[0;32m    356\u001b[0m \u001b[38;5;28;01mreturn\u001b[39;00m obj, end\n",
      "\u001b[1;31mJSONDecodeError\u001b[0m: Expecting value: line 2 column 1 (char 1)"
     ]
    }
   ],
   "source": [
    "WilliamPatersonUniversity = RateMyProfScraper(1205)\n",
    "WilliamPatersonUniversity.SearchProfessor(\"Cyril Ku\")\n",
    "WilliamPatersonUniversity.PrintProfessorDetail(\"overall_rating\")\n",
    "\n",
    "MassInstTech = RateMyProfScraper(580)\n",
    "MassInstTech.SearchProfessor(\"Robert Berwick\")\n",
    "MassInstTech.PrintProfessorDetail(\"overall_rating\")"
   ]
  },
  {
   "cell_type": "code",
   "execution_count": null,
   "id": "c038155b",
   "metadata": {},
   "outputs": [],
   "source": [
    "USC = RateMyProfScraper(1381)"
   ]
  },
  {
   "cell_type": "code",
   "execution_count": null,
   "id": "9e5c9879",
   "metadata": {},
   "outputs": [],
   "source": []
  }
 ],
 "metadata": {
  "kernelspec": {
   "display_name": "Python 3 (ipykernel)",
   "language": "python",
   "name": "python3"
  },
  "language_info": {
   "codemirror_mode": {
    "name": "ipython",
    "version": 3
   },
   "file_extension": ".py",
   "mimetype": "text/x-python",
   "name": "python",
   "nbconvert_exporter": "python",
   "pygments_lexer": "ipython3",
   "version": "3.9.12"
  }
 },
 "nbformat": 4,
 "nbformat_minor": 5
}
