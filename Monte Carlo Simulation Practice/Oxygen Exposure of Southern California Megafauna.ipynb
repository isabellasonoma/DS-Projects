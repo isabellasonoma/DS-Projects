{
 "cells": [
  {
   "cell_type": "code",
   "execution_count": 21,
   "id": "b8ae4fa6",
   "metadata": {},
   "outputs": [],
   "source": [
    "import matplotlib.pyplot as plt\n",
    "from scipy import stats\n",
    "import numpy as np\n",
    "import pandas as pd\n",
    "plt.style.use('ggplot')\n",
    "from pandas.plotting import scatter_matrix\n",
    "from sklearn.model_selection import train_test_split\n",
    "from sklearn.model_selection import cross_val_score\n",
    "from sklearn.linear_model import LinearRegression\n",
    "from sklearn.tree import DecisionTreeRegressor\n",
    "from sklearn.metrics import mean_squared_error\n",
    "from sklearn.ensemble import RandomForestRegressor"
   ]
  },
  {
   "cell_type": "code",
   "execution_count": 22,
   "id": "c636b697",
   "metadata": {},
   "outputs": [],
   "source": [
    "original_observation_data = pd.read_csv(r'C:\\Users\\Isabe\\Oxygen Exposure of Southern California Megafauna\\ROVObservationData.csv')"
   ]
  },
  {
   "cell_type": "code",
   "execution_count": 23,
   "id": "bc456ba9",
   "metadata": {},
   "outputs": [
    {
     "data": {
      "text/plain": [
       "DateTime|\"Easting\"|\"Northing\"|\"Depth\"|\"Temp\"|\"Sal\"|\"Oxy\"|\"Grain\"|\"Bedform\"|\"ac\"|\"ae\"|\"an\"|\"ap\"|\"as\"|\"ba\"|\"bas\"|\"bc\"|\"bgo\"|\"bgu\"|\"bi\"|\"bo\"|\"br\"|\"bs\"|\"ca\"|\"cc\"|\"cd\"|\"cg\"|\"ch\"|\"com\"|\"cp\"|\"cr\"|\"cs\"|\"cu\"|\"de\"|\"dp\"|\"eo\"|\"ep\"|\"eu\"|\"fej\"|\"fl\"|\"fo\"|\"fr\"|\"go\"|\"ha\"|\"hal\"|\"hb\"|\"hl\"|\"ii\"|\"io\"|\"ir\"|\"jde\"|\"jm\"|\"kb\"|\"kw\"|\"lc\"|\"lcom\"|\"li\"|\"ln\"|\"lo\"|\"ls\"|\"lss\"|\"lu\"|\"ly\"|\"lz\"|\"mc\"|\"mr\"|\"ms\"|\"mse\"|\"ol\"|\"ow\"|\"pa\"|\"pc\"|\"pem\"|\"pg\"|\"ph\"|\"pi\"|\"pl\"|\"po\"|\"pp\"|\"ppl\"|\"ps\"|\"pt\"|\"pyr\"|\"ra\"|\"rb\"|\"rh\"|\"ro\"|\"ru\"|\"rw\"|\"sa\"|\"sb\"|\"sc\"|\"scom\"|\"sd\"|\"se\"|\"sec\"|\"sh\"|\"shc\"|\"sl\"|\"sm\"|\"spo\"|\"sq\"|\"ss\"|\"st\"|\"te\"|\"th\"|\"ti\"|\"tr\"|\"unkss\"|\"vm\"|\"vr\"|\"vs\"|\"wfs\"|\"xl\"|\"ye\"|\"za\"|\"bl\"|\"hc\"|\"pe\"|\"py\"    object\n",
       "dtype: object"
      ]
     },
     "execution_count": 23,
     "metadata": {},
     "output_type": "execute_result"
    }
   ],
   "source": [
    "original_observation_data.dtypes"
   ]
  },
  {
   "cell_type": "code",
   "execution_count": 24,
   "id": "d4598a91",
   "metadata": {},
   "outputs": [],
   "source": [
    "observation_column_names = \"DateTime|Easting|Northing|Depth|Temp|Sal|Oxy|Grain|Bedform|ac|ae|an|ap|as|ba|bas|bc|bgo|bgu|bi|bo|br|bs|ca|cc|cd|cg|ch|com|cp|cr|cs|cu|de|dp|eo|ep|eu|fej|fl|fo|fr|go|ha|hal|hb|hl|ii|io|ir|jde|jm|kb|kw|lc|lcom|li|ln|lo|ls|lss|lu|ly|lz|mc|mr|ms|mse|ol|ow|pa|pc|pem|pg|ph|pi|pl|po|pp|ppl|ps|pt|pyr|ra|rb|rh|ro|ru|rw|sa|sb|sc|scom|sd|se|sec|sh|shc|sl|sm|spo|sq|ss|st|te|th|ti|tr|unkss|vm|vr|vs|wfs|xl|ye|za|bl|hc|pe|py\""
   ]
  },
  {
   "cell_type": "code",
   "execution_count": 25,
   "id": "55ea3782",
   "metadata": {},
   "outputs": [],
   "source": [
    "observation_column_names = observation_column_names.split('|')\n",
    "observation_data = pd.DataFrame()\n",
    "observation_data = pd.DataFrame(columns = observation_column_names)"
   ]
  },
  {
   "cell_type": "code",
   "execution_count": 26,
   "id": "ac5e255e",
   "metadata": {},
   "outputs": [
    {
     "data": {
      "text/html": [
       "<div>\n",
       "<style scoped>\n",
       "    .dataframe tbody tr th:only-of-type {\n",
       "        vertical-align: middle;\n",
       "    }\n",
       "\n",
       "    .dataframe tbody tr th {\n",
       "        vertical-align: top;\n",
       "    }\n",
       "\n",
       "    .dataframe thead th {\n",
       "        text-align: right;\n",
       "    }\n",
       "</style>\n",
       "<table border=\"1\" class=\"dataframe\">\n",
       "  <thead>\n",
       "    <tr style=\"text-align: right;\">\n",
       "      <th></th>\n",
       "      <th>DateTime</th>\n",
       "      <th>Easting</th>\n",
       "      <th>Northing</th>\n",
       "      <th>Depth</th>\n",
       "      <th>Temp</th>\n",
       "      <th>Sal</th>\n",
       "      <th>Oxy</th>\n",
       "      <th>Grain</th>\n",
       "      <th>Bedform</th>\n",
       "      <th>ac</th>\n",
       "      <th>...</th>\n",
       "      <th>vr</th>\n",
       "      <th>vs</th>\n",
       "      <th>wfs</th>\n",
       "      <th>xl</th>\n",
       "      <th>ye</th>\n",
       "      <th>za</th>\n",
       "      <th>bl</th>\n",
       "      <th>hc</th>\n",
       "      <th>pe</th>\n",
       "      <th>py</th>\n",
       "    </tr>\n",
       "  </thead>\n",
       "  <tbody>\n",
       "  </tbody>\n",
       "</table>\n",
       "<p>0 rows × 120 columns</p>\n",
       "</div>"
      ],
      "text/plain": [
       "Empty DataFrame\n",
       "Columns: [DateTime, Easting, Northing, Depth, Temp, Sal, Oxy, Grain, Bedform, ac, ae, an, ap, as, ba, bas, bc, bgo, bgu, bi, bo, br, bs, ca, cc, cd, cg, ch, com, cp, cr, cs, cu, de, dp, eo, ep, eu, fej, fl, fo, fr, go, ha, hal, hb, hl, ii, io, ir, jde, jm, kb, kw, lc, lcom, li, ln, lo, ls, lss, lu, ly, lz, mc, mr, ms, mse, ol, ow, pa, pc, pem, pg, ph, pi, pl, po, pp, ppl, ps, pt, pyr, ra, rb, rh, ro, ru, rw, sa, sb, sc, scom, sd, se, sec, sh, shc, sl, sm, ...]\n",
       "Index: []\n",
       "\n",
       "[0 rows x 120 columns]"
      ]
     },
     "execution_count": 26,
     "metadata": {},
     "output_type": "execute_result"
    }
   ],
   "source": [
    "observation_data"
   ]
  },
  {
   "cell_type": "code",
   "execution_count": 27,
   "id": "eae4c179",
   "metadata": {},
   "outputs": [],
   "source": [
    "i=0\n",
    "while(i<2404):\n",
    "    original_observation_data.iloc[i][0] = original_observation_data.iloc[i][0].replace('\"', '').replace('NA', '')\n",
    "    data = str(original_observation_data.iloc[i][0])\n",
    "    split = data.split('|')\n",
    "    observation_data.loc[len(observation_data)] = split\n",
    "    i = i+1"
   ]
  },
  {
   "cell_type": "code",
   "execution_count": 10,
   "id": "f9854b27",
   "metadata": {},
   "outputs": [],
   "source": [
    "original_species_data = pd.read_csv(r'C:\\Users\\Isabe\\Oxygen Exposure of Southern California Megafauna\\SpeciesMetadata.csv')"
   ]
  },
  {
   "cell_type": "code",
   "execution_count": 11,
   "id": "f1e2e355",
   "metadata": {},
   "outputs": [],
   "source": [
    "species_column_names = list(original_species_data.columns)\n",
    "species_column_names = species_column_names[0].split('|')\n",
    "species_data = pd.DataFrame()\n",
    "species_data = pd.DataFrame(columns = species_column_names)"
   ]
  },
  {
   "cell_type": "code",
   "execution_count": 12,
   "id": "10fd9d0c",
   "metadata": {},
   "outputs": [],
   "source": [
    "i=0\n",
    "while(i<111):\n",
    "    data = str(original_species_data.iloc[i][0])\n",
    "    split = data.split('|')\n",
    "    species_data.loc[len(species_data)] = split\n",
    "    i = i+1"
   ]
  },
  {
   "cell_type": "code",
   "execution_count": 13,
   "id": "b19e167e",
   "metadata": {},
   "outputs": [],
   "source": [
    "observation_data[['Easting',\n",
    "     'Northing',\n",
    "     'Depth',\n",
    "     'Temp',\n",
    "     'Sal',\n",
    "     'Oxy',]] = observation_data[['Easting',\n",
    "                     'Northing',\n",
    "                     'Depth',\n",
    "                     'Temp',\n",
    "                     'Sal',\n",
    "                     'Oxy',]].apply(pd.to_numeric)"
   ]
  },
  {
   "cell_type": "code",
   "execution_count": 14,
   "id": "69b386cb",
   "metadata": {},
   "outputs": [],
   "source": [
    "observation_data[['ac','ae','an','ap','as','ba','bas','bc','bgo','bgu','bi','bo','br','bs','ca','cc','cd','cg','ch','com',\\\n",
    "                  'cp','cr','cs','cu','de','dp','eo','ep','eu','fej','fl','fo','fr','go','ha','hal','hb','hl','ii','io','ir'\\\n",
    "                  ,'jde','jm','kb','kw','lc','lcom','li','ln','lo','ls','lss','lu','ly','lz','mc','mr','ms','mse','ol','ow'\\\n",
    "                  ,'pa','pc','pem','pg','ph','pi','pl','po','pp','ppl','ps','pt','pyr','ra','rb','rh','ro','ru','rw','sa',\\\n",
    "                  'sb','sc','scom','sd','se','sec','sh','shc','sl','sm','spo','sq','ss','st','te','th','ti','tr','unkss',\\\n",
    "                  'vm','vr','vs','wfs','xl','ye','za','bl','hc','pe','py']]\\\n",
    "= observation_data[['ac','ae','an','ap','as','ba','bas','bc','bgo','bgu','bi','bo','br','bs','ca','cc','cd','cg','ch','com',\\\n",
    "                  'cp','cr','cs','cu','de','dp','eo','ep','eu','fej','fl','fo','fr','go','ha','hal','hb','hl','ii','io','ir'\\\n",
    "                  ,'jde','jm','kb','kw','lc','lcom','li','ln','lo','ls','lss','lu','ly','lz','mc','mr','ms','mse','ol','ow'\\\n",
    "                  ,'pa','pc','pem','pg','ph','pi','pl','po','pp','ppl','ps','pt','pyr','ra','rb','rh','ro','ru','rw','sa',\\\n",
    "                  'sb','sc','scom','sd','se','sec','sh','shc','sl','sm','spo','sq','ss','st','te','th','ti','tr','unkss',\\\n",
    "                  'vm','vr','vs','wfs','xl','ye','za','bl','hc','pe','py']].apply(pd.to_numeric)"
   ]
  },
  {
   "cell_type": "code",
   "execution_count": 15,
   "id": "a855904f",
   "metadata": {},
   "outputs": [
    {
     "data": {
      "text/plain": [
       "min    468647.562132\n",
       "max    479907.572714\n",
       "Name: Easting, dtype: float64"
      ]
     },
     "execution_count": 15,
     "metadata": {},
     "output_type": "execute_result"
    }
   ],
   "source": [
    "observation_data['Easting'].agg(['min', 'max'])"
   ]
  },
  {
   "cell_type": "code",
   "execution_count": 16,
   "id": "6a1f7f32",
   "metadata": {},
   "outputs": [
    {
     "data": {
      "text/plain": [
       "min    3.604817e+06\n",
       "max    3.645491e+06\n",
       "Name: Northing, dtype: float64"
      ]
     },
     "execution_count": 16,
     "metadata": {},
     "output_type": "execute_result"
    }
   ],
   "source": [
    "observation_data['Northing'].agg(['min', 'max'])"
   ]
  },
  {
   "cell_type": "code",
   "execution_count": 17,
   "id": "a3be3017",
   "metadata": {},
   "outputs": [],
   "source": [
    "combined_data = pd.DataFrame(columns = ['DateTime','Easting','Northing','Depth', 'Temp','Sal','Oxy','Grain','Bedform','SpeciesCode', 'Mobility',\n",
    "                    'SpeciesName', 'CommonName', 'MajorTaxa','Group', 'QuantScale'])"
   ]
  },
  {
   "cell_type": "code",
   "execution_count": 19,
   "id": "462fc46f",
   "metadata": {},
   "outputs": [
    {
     "data": {
      "text/html": [
       "<div>\n",
       "<style scoped>\n",
       "    .dataframe tbody tr th:only-of-type {\n",
       "        vertical-align: middle;\n",
       "    }\n",
       "\n",
       "    .dataframe tbody tr th {\n",
       "        vertical-align: top;\n",
       "    }\n",
       "\n",
       "    .dataframe thead th {\n",
       "        text-align: right;\n",
       "    }\n",
       "</style>\n",
       "<table border=\"1\" class=\"dataframe\">\n",
       "  <thead>\n",
       "    <tr style=\"text-align: right;\">\n",
       "      <th></th>\n",
       "      <th>DateTime</th>\n",
       "      <th>Easting</th>\n",
       "      <th>Northing</th>\n",
       "      <th>Depth</th>\n",
       "      <th>Temp</th>\n",
       "      <th>Sal</th>\n",
       "      <th>Oxy</th>\n",
       "      <th>Grain</th>\n",
       "      <th>Bedform</th>\n",
       "      <th>SpeciesCode</th>\n",
       "      <th>Mobility</th>\n",
       "      <th>SpeciesName</th>\n",
       "      <th>CommonName</th>\n",
       "      <th>MajorTaxa</th>\n",
       "      <th>Group</th>\n",
       "      <th>QuantScale</th>\n",
       "    </tr>\n",
       "  </thead>\n",
       "  <tbody>\n",
       "  </tbody>\n",
       "</table>\n",
       "</div>"
      ],
      "text/plain": [
       "Empty DataFrame\n",
       "Columns: [DateTime, Easting, Northing, Depth, Temp, Sal, Oxy, Grain, Bedform, SpeciesCode, Mobility, SpeciesName, CommonName, MajorTaxa, Group, QuantScale]\n",
       "Index: []"
      ]
     },
     "execution_count": 19,
     "metadata": {},
     "output_type": "execute_result"
    }
   ],
   "source": [
    "combined_data"
   ]
  },
  {
   "cell_type": "code",
   "execution_count": 18,
   "id": "3ee4d6a1",
   "metadata": {},
   "outputs": [
    {
     "ename": "SyntaxError",
     "evalue": "invalid syntax (164083573.py, line 4)",
     "output_type": "error",
     "traceback": [
      "\u001b[1;36m  Input \u001b[1;32mIn [18]\u001b[1;36m\u001b[0m\n\u001b[1;33m    if (.iloc[i][0] ==0)\u001b[0m\n\u001b[1;37m        ^\u001b[0m\n\u001b[1;31mSyntaxError\u001b[0m\u001b[1;31m:\u001b[0m invalid syntax\n"
     ]
    }
   ],
   "source": [
    "i=9\n",
    "c=0\n",
    "while(i<119):\n",
    "    if (observation_data.iloc[i][0] ==1)\n",
    "        c=c+1\n",
    "        \n",
    "    combined_data = pd.concat([new_row,df.loc[:]]).reset_index(drop=True)\n",
    "    else\n",
    "        c=c\n",
    "    \n",
    "\n",
    "    \n",
    "    i = i+1"
   ]
  },
  {
   "cell_type": "code",
   "execution_count": null,
   "id": "37a8ed26",
   "metadata": {},
   "outputs": [],
   "source": [
    "#combined.columns = ['DateTime','Easting','Northing','Depth', 'Temp','Sal','Oxy','Grain','Bedform','SpeciesCode', 'Mobility',\n",
    "              #      'SpeciesName', 'CommonName', 'MajorTaxa','Group', 'QuantScale']"
   ]
  },
  {
   "cell_type": "code",
   "execution_count": null,
   "id": "9e213cfc",
   "metadata": {},
   "outputs": [],
   "source": []
  },
  {
   "cell_type": "code",
   "execution_count": null,
   "id": "dfa0eb12",
   "metadata": {},
   "outputs": [],
   "source": []
  },
  {
   "cell_type": "code",
   "execution_count": null,
   "id": "e2c044e5",
   "metadata": {},
   "outputs": [],
   "source": [
    "%history -g -f 'Oxygen Exposure of Southern California Megafauna'"
   ]
  },
  {
   "cell_type": "code",
   "execution_count": null,
   "id": "cf5ef32e",
   "metadata": {},
   "outputs": [],
   "source": [
    "# observation_column_names = list(observation_data.columns.values)\n",
    "# n=0\n",
    "# m=0\n",
    "# while(m<120):\n",
    "#     while(n<2404):\n",
    "#         observation_data.loc[n][observation_column_names[m]] = observation_data.loc[n][observation_column_names[m]].replace('\"', '')\n",
    "#         observation_data.loc[n][observation_column_names[m]] = observation_data.loc[n][observation_column_names[m]].replace('NA', '')\n",
    "#         n=n+1\n",
    "#     n=0\n",
    "#     m=m+1"
   ]
  }
 ],
 "metadata": {
  "kernelspec": {
   "display_name": "Python 3 (ipykernel)",
   "language": "python",
   "name": "python3"
  },
  "language_info": {
   "codemirror_mode": {
    "name": "ipython",
    "version": 3
   },
   "file_extension": ".py",
   "mimetype": "text/x-python",
   "name": "python",
   "nbconvert_exporter": "python",
   "pygments_lexer": "ipython3",
   "version": "3.9.12"
  }
 },
 "nbformat": 4,
 "nbformat_minor": 5
}
