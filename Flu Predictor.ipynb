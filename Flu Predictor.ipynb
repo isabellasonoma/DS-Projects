{
 "cells": [
  {
   "cell_type": "markdown",
   "id": "a9f920b9",
   "metadata": {},
   "source": [
    "**Imports**"
   ]
  },
  {
   "cell_type": "code",
   "execution_count": 1,
   "id": "090e22d7",
   "metadata": {},
   "outputs": [],
   "source": [
    "import matplotlib.pyplot as plt\n",
    "from scipy import stats\n",
    "import numpy as np\n",
    "import pandas as pd\n",
    "plt.style.use('ggplot')\n",
    "from pandas.plotting import scatter_matrix\n",
    "from sklearn.model_selection import train_test_split\n",
    "from sklearn.model_selection import cross_val_score\n",
    "from sklearn.linear_model import LinearRegression\n",
    "from sklearn.tree import DecisionTreeRegressor\n",
    "from sklearn.metrics import mean_squared_error\n",
    "from sklearn.ensemble import RandomForestRegressor\n",
    "from sklearn.preprocessing import OneHotEncoder\n",
    "from sklearn import metrics\n",
    "import seaborn as sns\n",
    "from sklearn.model_selection import train_test_split"
   ]
  },
  {
   "cell_type": "markdown",
   "id": "2b6cf0d9",
   "metadata": {},
   "source": [
    "**Read-In Data**"
   ]
  },
  {
   "cell_type": "code",
   "execution_count": 2,
   "id": "77112d27",
   "metadata": {},
   "outputs": [],
   "source": [
    "test_set_features = pd.read_csv(r'C:\\Users\\Isabe\\Oxygen Exposure of Southern California Megafauna\\test_set_features.csv')\n",
    "training_set_features = pd.read_csv(r'C:\\Users\\Isabe\\Oxygen Exposure of Southern California Megafauna\\training_set_features.csv')\n",
    "training_set_labels = pd.read_csv(r'C:\\Users\\Isabe\\Oxygen Exposure of Southern California Megafauna\\training_set_labels.csv')"
   ]
  },
  {
   "cell_type": "code",
   "execution_count": 3,
   "id": "448f3005",
   "metadata": {},
   "outputs": [
    {
     "data": {
      "text/plain": [
       "Index(['respondent_id', 'h1n1_concern', 'h1n1_knowledge',\n",
       "       'behavioral_antiviral_meds', 'behavioral_avoidance',\n",
       "       'behavioral_face_mask', 'behavioral_wash_hands',\n",
       "       'behavioral_large_gatherings', 'behavioral_outside_home',\n",
       "       'behavioral_touch_face', 'doctor_recc_h1n1', 'doctor_recc_seasonal',\n",
       "       'chronic_med_condition', 'child_under_6_months', 'health_worker',\n",
       "       'health_insurance', 'opinion_h1n1_vacc_effective', 'opinion_h1n1_risk',\n",
       "       'opinion_h1n1_sick_from_vacc', 'opinion_seas_vacc_effective',\n",
       "       'opinion_seas_risk', 'opinion_seas_sick_from_vacc', 'age_group',\n",
       "       'education', 'race', 'sex', 'income_poverty', 'marital_status',\n",
       "       'rent_or_own', 'employment_status', 'hhs_geo_region', 'census_msa',\n",
       "       'household_adults', 'household_children', 'employment_industry',\n",
       "       'employment_occupation'],\n",
       "      dtype='object')"
      ]
     },
     "execution_count": 3,
     "metadata": {},
     "output_type": "execute_result"
    }
   ],
   "source": [
    "test_set_features.columns"
   ]
  },
  {
   "cell_type": "markdown",
   "id": "d2ba497d",
   "metadata": {},
   "source": [
    "**Merge Training Profile with Vaccine Outcome and Explore Data**"
   ]
  },
  {
   "cell_type": "code",
   "execution_count": 4,
   "id": "58205ac3",
   "metadata": {},
   "outputs": [],
   "source": [
    "training_data = pd.merge(training_set_labels, training_set_features, on=\"respondent_id\")"
   ]
  },
  {
   "cell_type": "code",
   "execution_count": 5,
   "id": "55ac06fa",
   "metadata": {},
   "outputs": [
    {
     "data": {
      "text/plain": [
       "Index(['respondent_id', 'h1n1_vaccine', 'seasonal_vaccine', 'h1n1_concern',\n",
       "       'h1n1_knowledge', 'behavioral_antiviral_meds', 'behavioral_avoidance',\n",
       "       'behavioral_face_mask', 'behavioral_wash_hands',\n",
       "       'behavioral_large_gatherings', 'behavioral_outside_home',\n",
       "       'behavioral_touch_face', 'doctor_recc_h1n1', 'doctor_recc_seasonal',\n",
       "       'chronic_med_condition', 'child_under_6_months', 'health_worker',\n",
       "       'health_insurance', 'opinion_h1n1_vacc_effective', 'opinion_h1n1_risk',\n",
       "       'opinion_h1n1_sick_from_vacc', 'opinion_seas_vacc_effective',\n",
       "       'opinion_seas_risk', 'opinion_seas_sick_from_vacc', 'age_group',\n",
       "       'education', 'race', 'sex', 'income_poverty', 'marital_status',\n",
       "       'rent_or_own', 'employment_status', 'hhs_geo_region', 'census_msa',\n",
       "       'household_adults', 'household_children', 'employment_industry',\n",
       "       'employment_occupation'],\n",
       "      dtype='object')"
      ]
     },
     "execution_count": 5,
     "metadata": {},
     "output_type": "execute_result"
    }
   ],
   "source": [
    "training_data.columns"
   ]
  },
  {
   "cell_type": "code",
   "execution_count": 6,
   "id": "902f599e",
   "metadata": {},
   "outputs": [
    {
     "data": {
      "text/html": [
       "<div>\n",
       "<style scoped>\n",
       "    .dataframe tbody tr th:only-of-type {\n",
       "        vertical-align: middle;\n",
       "    }\n",
       "\n",
       "    .dataframe tbody tr th {\n",
       "        vertical-align: top;\n",
       "    }\n",
       "\n",
       "    .dataframe thead th {\n",
       "        text-align: right;\n",
       "    }\n",
       "</style>\n",
       "<table border=\"1\" class=\"dataframe\">\n",
       "  <thead>\n",
       "    <tr style=\"text-align: right;\">\n",
       "      <th></th>\n",
       "      <th>respondent_id</th>\n",
       "      <th>h1n1_vaccine</th>\n",
       "      <th>seasonal_vaccine</th>\n",
       "      <th>h1n1_concern</th>\n",
       "      <th>h1n1_knowledge</th>\n",
       "      <th>behavioral_antiviral_meds</th>\n",
       "      <th>behavioral_avoidance</th>\n",
       "      <th>behavioral_face_mask</th>\n",
       "      <th>behavioral_wash_hands</th>\n",
       "      <th>behavioral_large_gatherings</th>\n",
       "      <th>...</th>\n",
       "      <th>health_worker</th>\n",
       "      <th>health_insurance</th>\n",
       "      <th>opinion_h1n1_vacc_effective</th>\n",
       "      <th>opinion_h1n1_risk</th>\n",
       "      <th>opinion_h1n1_sick_from_vacc</th>\n",
       "      <th>opinion_seas_vacc_effective</th>\n",
       "      <th>opinion_seas_risk</th>\n",
       "      <th>opinion_seas_sick_from_vacc</th>\n",
       "      <th>household_adults</th>\n",
       "      <th>household_children</th>\n",
       "    </tr>\n",
       "  </thead>\n",
       "  <tbody>\n",
       "    <tr>\n",
       "      <th>count</th>\n",
       "      <td>26707.000000</td>\n",
       "      <td>26707.000000</td>\n",
       "      <td>26707.000000</td>\n",
       "      <td>26615.000000</td>\n",
       "      <td>26591.000000</td>\n",
       "      <td>26636.000000</td>\n",
       "      <td>26499.000000</td>\n",
       "      <td>26688.000000</td>\n",
       "      <td>26665.000000</td>\n",
       "      <td>26620.00000</td>\n",
       "      <td>...</td>\n",
       "      <td>25903.000000</td>\n",
       "      <td>14433.00000</td>\n",
       "      <td>26316.000000</td>\n",
       "      <td>26319.000000</td>\n",
       "      <td>26312.000000</td>\n",
       "      <td>26245.000000</td>\n",
       "      <td>26193.000000</td>\n",
       "      <td>26170.000000</td>\n",
       "      <td>26458.000000</td>\n",
       "      <td>26458.000000</td>\n",
       "    </tr>\n",
       "    <tr>\n",
       "      <th>mean</th>\n",
       "      <td>13353.000000</td>\n",
       "      <td>0.212454</td>\n",
       "      <td>0.465608</td>\n",
       "      <td>1.618486</td>\n",
       "      <td>1.262532</td>\n",
       "      <td>0.048844</td>\n",
       "      <td>0.725612</td>\n",
       "      <td>0.068982</td>\n",
       "      <td>0.825614</td>\n",
       "      <td>0.35864</td>\n",
       "      <td>...</td>\n",
       "      <td>0.111918</td>\n",
       "      <td>0.87972</td>\n",
       "      <td>3.850623</td>\n",
       "      <td>2.342566</td>\n",
       "      <td>2.357670</td>\n",
       "      <td>4.025986</td>\n",
       "      <td>2.719162</td>\n",
       "      <td>2.118112</td>\n",
       "      <td>0.886499</td>\n",
       "      <td>0.534583</td>\n",
       "    </tr>\n",
       "    <tr>\n",
       "      <th>std</th>\n",
       "      <td>7709.791156</td>\n",
       "      <td>0.409052</td>\n",
       "      <td>0.498825</td>\n",
       "      <td>0.910311</td>\n",
       "      <td>0.618149</td>\n",
       "      <td>0.215545</td>\n",
       "      <td>0.446214</td>\n",
       "      <td>0.253429</td>\n",
       "      <td>0.379448</td>\n",
       "      <td>0.47961</td>\n",
       "      <td>...</td>\n",
       "      <td>0.315271</td>\n",
       "      <td>0.32530</td>\n",
       "      <td>1.007436</td>\n",
       "      <td>1.285539</td>\n",
       "      <td>1.362766</td>\n",
       "      <td>1.086565</td>\n",
       "      <td>1.385055</td>\n",
       "      <td>1.332950</td>\n",
       "      <td>0.753422</td>\n",
       "      <td>0.928173</td>\n",
       "    </tr>\n",
       "    <tr>\n",
       "      <th>min</th>\n",
       "      <td>0.000000</td>\n",
       "      <td>0.000000</td>\n",
       "      <td>0.000000</td>\n",
       "      <td>0.000000</td>\n",
       "      <td>0.000000</td>\n",
       "      <td>0.000000</td>\n",
       "      <td>0.000000</td>\n",
       "      <td>0.000000</td>\n",
       "      <td>0.000000</td>\n",
       "      <td>0.00000</td>\n",
       "      <td>...</td>\n",
       "      <td>0.000000</td>\n",
       "      <td>0.00000</td>\n",
       "      <td>1.000000</td>\n",
       "      <td>1.000000</td>\n",
       "      <td>1.000000</td>\n",
       "      <td>1.000000</td>\n",
       "      <td>1.000000</td>\n",
       "      <td>1.000000</td>\n",
       "      <td>0.000000</td>\n",
       "      <td>0.000000</td>\n",
       "    </tr>\n",
       "    <tr>\n",
       "      <th>25%</th>\n",
       "      <td>6676.500000</td>\n",
       "      <td>0.000000</td>\n",
       "      <td>0.000000</td>\n",
       "      <td>1.000000</td>\n",
       "      <td>1.000000</td>\n",
       "      <td>0.000000</td>\n",
       "      <td>0.000000</td>\n",
       "      <td>0.000000</td>\n",
       "      <td>1.000000</td>\n",
       "      <td>0.00000</td>\n",
       "      <td>...</td>\n",
       "      <td>0.000000</td>\n",
       "      <td>1.00000</td>\n",
       "      <td>3.000000</td>\n",
       "      <td>1.000000</td>\n",
       "      <td>1.000000</td>\n",
       "      <td>4.000000</td>\n",
       "      <td>2.000000</td>\n",
       "      <td>1.000000</td>\n",
       "      <td>0.000000</td>\n",
       "      <td>0.000000</td>\n",
       "    </tr>\n",
       "    <tr>\n",
       "      <th>50%</th>\n",
       "      <td>13353.000000</td>\n",
       "      <td>0.000000</td>\n",
       "      <td>0.000000</td>\n",
       "      <td>2.000000</td>\n",
       "      <td>1.000000</td>\n",
       "      <td>0.000000</td>\n",
       "      <td>1.000000</td>\n",
       "      <td>0.000000</td>\n",
       "      <td>1.000000</td>\n",
       "      <td>0.00000</td>\n",
       "      <td>...</td>\n",
       "      <td>0.000000</td>\n",
       "      <td>1.00000</td>\n",
       "      <td>4.000000</td>\n",
       "      <td>2.000000</td>\n",
       "      <td>2.000000</td>\n",
       "      <td>4.000000</td>\n",
       "      <td>2.000000</td>\n",
       "      <td>2.000000</td>\n",
       "      <td>1.000000</td>\n",
       "      <td>0.000000</td>\n",
       "    </tr>\n",
       "    <tr>\n",
       "      <th>75%</th>\n",
       "      <td>20029.500000</td>\n",
       "      <td>0.000000</td>\n",
       "      <td>1.000000</td>\n",
       "      <td>2.000000</td>\n",
       "      <td>2.000000</td>\n",
       "      <td>0.000000</td>\n",
       "      <td>1.000000</td>\n",
       "      <td>0.000000</td>\n",
       "      <td>1.000000</td>\n",
       "      <td>1.00000</td>\n",
       "      <td>...</td>\n",
       "      <td>0.000000</td>\n",
       "      <td>1.00000</td>\n",
       "      <td>5.000000</td>\n",
       "      <td>4.000000</td>\n",
       "      <td>4.000000</td>\n",
       "      <td>5.000000</td>\n",
       "      <td>4.000000</td>\n",
       "      <td>4.000000</td>\n",
       "      <td>1.000000</td>\n",
       "      <td>1.000000</td>\n",
       "    </tr>\n",
       "    <tr>\n",
       "      <th>max</th>\n",
       "      <td>26706.000000</td>\n",
       "      <td>1.000000</td>\n",
       "      <td>1.000000</td>\n",
       "      <td>3.000000</td>\n",
       "      <td>2.000000</td>\n",
       "      <td>1.000000</td>\n",
       "      <td>1.000000</td>\n",
       "      <td>1.000000</td>\n",
       "      <td>1.000000</td>\n",
       "      <td>1.00000</td>\n",
       "      <td>...</td>\n",
       "      <td>1.000000</td>\n",
       "      <td>1.00000</td>\n",
       "      <td>5.000000</td>\n",
       "      <td>5.000000</td>\n",
       "      <td>5.000000</td>\n",
       "      <td>5.000000</td>\n",
       "      <td>5.000000</td>\n",
       "      <td>5.000000</td>\n",
       "      <td>3.000000</td>\n",
       "      <td>3.000000</td>\n",
       "    </tr>\n",
       "  </tbody>\n",
       "</table>\n",
       "<p>8 rows × 26 columns</p>\n",
       "</div>"
      ],
      "text/plain": [
       "       respondent_id  h1n1_vaccine  seasonal_vaccine  h1n1_concern  \\\n",
       "count   26707.000000  26707.000000      26707.000000  26615.000000   \n",
       "mean    13353.000000      0.212454          0.465608      1.618486   \n",
       "std      7709.791156      0.409052          0.498825      0.910311   \n",
       "min         0.000000      0.000000          0.000000      0.000000   \n",
       "25%      6676.500000      0.000000          0.000000      1.000000   \n",
       "50%     13353.000000      0.000000          0.000000      2.000000   \n",
       "75%     20029.500000      0.000000          1.000000      2.000000   \n",
       "max     26706.000000      1.000000          1.000000      3.000000   \n",
       "\n",
       "       h1n1_knowledge  behavioral_antiviral_meds  behavioral_avoidance  \\\n",
       "count    26591.000000               26636.000000          26499.000000   \n",
       "mean         1.262532                   0.048844              0.725612   \n",
       "std          0.618149                   0.215545              0.446214   \n",
       "min          0.000000                   0.000000              0.000000   \n",
       "25%          1.000000                   0.000000              0.000000   \n",
       "50%          1.000000                   0.000000              1.000000   \n",
       "75%          2.000000                   0.000000              1.000000   \n",
       "max          2.000000                   1.000000              1.000000   \n",
       "\n",
       "       behavioral_face_mask  behavioral_wash_hands  \\\n",
       "count          26688.000000           26665.000000   \n",
       "mean               0.068982               0.825614   \n",
       "std                0.253429               0.379448   \n",
       "min                0.000000               0.000000   \n",
       "25%                0.000000               1.000000   \n",
       "50%                0.000000               1.000000   \n",
       "75%                0.000000               1.000000   \n",
       "max                1.000000               1.000000   \n",
       "\n",
       "       behavioral_large_gatherings  ...  health_worker  health_insurance  \\\n",
       "count                  26620.00000  ...   25903.000000       14433.00000   \n",
       "mean                       0.35864  ...       0.111918           0.87972   \n",
       "std                        0.47961  ...       0.315271           0.32530   \n",
       "min                        0.00000  ...       0.000000           0.00000   \n",
       "25%                        0.00000  ...       0.000000           1.00000   \n",
       "50%                        0.00000  ...       0.000000           1.00000   \n",
       "75%                        1.00000  ...       0.000000           1.00000   \n",
       "max                        1.00000  ...       1.000000           1.00000   \n",
       "\n",
       "       opinion_h1n1_vacc_effective  opinion_h1n1_risk  \\\n",
       "count                 26316.000000       26319.000000   \n",
       "mean                      3.850623           2.342566   \n",
       "std                       1.007436           1.285539   \n",
       "min                       1.000000           1.000000   \n",
       "25%                       3.000000           1.000000   \n",
       "50%                       4.000000           2.000000   \n",
       "75%                       5.000000           4.000000   \n",
       "max                       5.000000           5.000000   \n",
       "\n",
       "       opinion_h1n1_sick_from_vacc  opinion_seas_vacc_effective  \\\n",
       "count                 26312.000000                 26245.000000   \n",
       "mean                      2.357670                     4.025986   \n",
       "std                       1.362766                     1.086565   \n",
       "min                       1.000000                     1.000000   \n",
       "25%                       1.000000                     4.000000   \n",
       "50%                       2.000000                     4.000000   \n",
       "75%                       4.000000                     5.000000   \n",
       "max                       5.000000                     5.000000   \n",
       "\n",
       "       opinion_seas_risk  opinion_seas_sick_from_vacc  household_adults  \\\n",
       "count       26193.000000                 26170.000000      26458.000000   \n",
       "mean            2.719162                     2.118112          0.886499   \n",
       "std             1.385055                     1.332950          0.753422   \n",
       "min             1.000000                     1.000000          0.000000   \n",
       "25%             2.000000                     1.000000          0.000000   \n",
       "50%             2.000000                     2.000000          1.000000   \n",
       "75%             4.000000                     4.000000          1.000000   \n",
       "max             5.000000                     5.000000          3.000000   \n",
       "\n",
       "       household_children  \n",
       "count        26458.000000  \n",
       "mean             0.534583  \n",
       "std              0.928173  \n",
       "min              0.000000  \n",
       "25%              0.000000  \n",
       "50%              0.000000  \n",
       "75%              1.000000  \n",
       "max              3.000000  \n",
       "\n",
       "[8 rows x 26 columns]"
      ]
     },
     "execution_count": 6,
     "metadata": {},
     "output_type": "execute_result"
    }
   ],
   "source": [
    "training_data.describe()"
   ]
  },
  {
   "cell_type": "code",
   "execution_count": 7,
   "id": "5d416c5b",
   "metadata": {},
   "outputs": [
    {
     "data": {
      "text/plain": [
       "<AxesSubplot:ylabel='h1n1_concern'>"
      ]
     },
     "execution_count": 7,
     "metadata": {},
     "output_type": "execute_result"
    },
    {
     "data": {
      "image/png": "[encoded data removed]",
      "text/plain": [
       "<Figure size 432x288 with 1 Axes>"
      ]
     },
     "metadata": {},
     "output_type": "display_data"
    }
   ],
   "source": [
    "training_data.groupby(['h1n1_concern']).agg({'h1n1_vaccine': ['count','sum']}).plot.barh(legend = True)\n",
    "#   ? does this make sense?"
   ]
  },
  {
   "cell_type": "code",
   "execution_count": 8,
   "id": "e9383d54",
   "metadata": {},
   "outputs": [],
   "source": [
    "rate = training_data.groupby(['h1n1_concern','income_poverty']).agg({'h1n1_vaccine': ['mean']})"
   ]
  },
  {
   "cell_type": "code",
   "execution_count": 9,
   "id": "1c9f3481",
   "metadata": {},
   "outputs": [
    {
     "data": {
      "text/html": [
       "<div>\n",
       "<style scoped>\n",
       "    .dataframe tbody tr th:only-of-type {\n",
       "        vertical-align: middle;\n",
       "    }\n",
       "\n",
       "    .dataframe tbody tr th {\n",
       "        vertical-align: top;\n",
       "    }\n",
       "\n",
       "    .dataframe thead tr th {\n",
       "        text-align: left;\n",
       "    }\n",
       "\n",
       "    .dataframe thead tr:last-of-type th {\n",
       "        text-align: right;\n",
       "    }\n",
       "</style>\n",
       "<table border=\"1\" class=\"dataframe\">\n",
       "  <thead>\n",
       "    <tr>\n",
       "      <th></th>\n",
       "      <th></th>\n",
       "      <th>h1n1_vaccine</th>\n",
       "    </tr>\n",
       "    <tr>\n",
       "      <th></th>\n",
       "      <th></th>\n",
       "      <th>mean</th>\n",
       "    </tr>\n",
       "    <tr>\n",
       "      <th>h1n1_concern</th>\n",
       "      <th>income_poverty</th>\n",
       "      <th></th>\n",
       "    </tr>\n",
       "  </thead>\n",
       "  <tbody>\n",
       "    <tr>\n",
       "      <th rowspan=\"3\" valign=\"top\">0.0</th>\n",
       "      <th>&lt;= $75,000, Above Poverty</th>\n",
       "      <td>0.121951</td>\n",
       "    </tr>\n",
       "    <tr>\n",
       "      <th>&gt; $75,000</th>\n",
       "      <td>0.180617</td>\n",
       "    </tr>\n",
       "    <tr>\n",
       "      <th>Below Poverty</th>\n",
       "      <td>0.126404</td>\n",
       "    </tr>\n",
       "    <tr>\n",
       "      <th rowspan=\"3\" valign=\"top\">1.0</th>\n",
       "      <th>&lt;= $75,000, Above Poverty</th>\n",
       "      <td>0.156666</td>\n",
       "    </tr>\n",
       "    <tr>\n",
       "      <th>&gt; $75,000</th>\n",
       "      <td>0.206022</td>\n",
       "    </tr>\n",
       "    <tr>\n",
       "      <th>Below Poverty</th>\n",
       "      <td>0.171429</td>\n",
       "    </tr>\n",
       "    <tr>\n",
       "      <th rowspan=\"3\" valign=\"top\">2.0</th>\n",
       "      <th>&lt;= $75,000, Above Poverty</th>\n",
       "      <td>0.226030</td>\n",
       "    </tr>\n",
       "    <tr>\n",
       "      <th>&gt; $75,000</th>\n",
       "      <td>0.278969</td>\n",
       "    </tr>\n",
       "    <tr>\n",
       "      <th>Below Poverty</th>\n",
       "      <td>0.178947</td>\n",
       "    </tr>\n",
       "    <tr>\n",
       "      <th rowspan=\"3\" valign=\"top\">3.0</th>\n",
       "      <th>&lt;= $75,000, Above Poverty</th>\n",
       "      <td>0.300346</td>\n",
       "    </tr>\n",
       "    <tr>\n",
       "      <th>&gt; $75,000</th>\n",
       "      <td>0.353808</td>\n",
       "    </tr>\n",
       "    <tr>\n",
       "      <th>Below Poverty</th>\n",
       "      <td>0.244048</td>\n",
       "    </tr>\n",
       "  </tbody>\n",
       "</table>\n",
       "</div>"
      ],
      "text/plain": [
       "                                       h1n1_vaccine\n",
       "                                               mean\n",
       "h1n1_concern income_poverty                        \n",
       "0.0          <= $75,000, Above Poverty     0.121951\n",
       "             > $75,000                     0.180617\n",
       "             Below Poverty                 0.126404\n",
       "1.0          <= $75,000, Above Poverty     0.156666\n",
       "             > $75,000                     0.206022\n",
       "             Below Poverty                 0.171429\n",
       "2.0          <= $75,000, Above Poverty     0.226030\n",
       "             > $75,000                     0.278969\n",
       "             Below Poverty                 0.178947\n",
       "3.0          <= $75,000, Above Poverty     0.300346\n",
       "             > $75,000                     0.353808\n",
       "             Below Poverty                 0.244048"
      ]
     },
     "execution_count": 9,
     "metadata": {},
     "output_type": "execute_result"
    }
   ],
   "source": [
    "rate"
   ]
  },
  {
   "cell_type": "code",
   "execution_count": 10,
   "id": "29c711e3",
   "metadata": {
    "scrolled": true
   },
   "outputs": [
    {
     "data": {
      "text/plain": [
       "<AxesSubplot:title={'center':'Vaccine Rates Among Groups of Poverty and Concern'}, ylabel='h1n1_concern,income_poverty'>"
      ]
     },
     "execution_count": 10,
     "metadata": {},
     "output_type": "execute_result"
    },
    {
     "data": {
      "image/png": "[encoded data removed]",
      "text/plain": [
       "<Figure size 432x288 with 1 Axes>"
      ]
     },
     "metadata": {},
     "output_type": "display_data"
    }
   ],
   "source": [
    "training_data.groupby(['h1n1_concern','income_poverty']).agg({'h1n1_vaccine': ['mean']}).plot.barh(legend =None, title = 'Vaccine Rates Among Groups of Poverty and Concern')"
   ]
  },
  {
   "cell_type": "code",
   "execution_count": 11,
   "id": "2643e5f3",
   "metadata": {},
   "outputs": [],
   "source": [
    "#rate.reindex(index = ([1.0, 2.0, 3.0, 4.0],['Below Poverty','<= $75,000, Above Poverty','> $75,000']))"
   ]
  },
  {
   "cell_type": "code",
   "execution_count": 12,
   "id": "d88bbb69",
   "metadata": {},
   "outputs": [
    {
     "data": {
      "text/plain": [
       "<AxesSubplot:title={'center':'Vaccine Rates Among Groups of Poverty and Knowledge'}, ylabel='h1n1_knowledge,income_poverty'>"
      ]
     },
     "execution_count": 12,
     "metadata": {},
     "output_type": "execute_result"
    },
    {
     "data": {
      "image/png": "[encoded data removed]",
      "text/plain": [
       "<Figure size 432x288 with 1 Axes>"
      ]
     },
     "metadata": {},
     "output_type": "display_data"
    }
   ],
   "source": [
    "training_data.groupby(['h1n1_knowledge','income_poverty']).agg({'h1n1_vaccine': ['mean']}).plot.barh(legend =None, title = 'Vaccine Rates Among Groups of Poverty and Knowledge')"
   ]
  },
  {
   "cell_type": "code",
   "execution_count": 13,
   "id": "9a99b4dd",
   "metadata": {},
   "outputs": [
    {
     "data": {
      "text/plain": [
       "<AxesSubplot:title={'center':'Vaccine Rates Among Groups of Avoidance and Belief of Effectiveness'}, ylabel='behavioral_avoidance,opinion_seas_vacc_effective'>"
      ]
     },
     "execution_count": 13,
     "metadata": {},
     "output_type": "execute_result"
    },
    {
     "data": {
      "image/png": "[encoded data removed]",
      "text/plain": [
       "<Figure size 432x288 with 1 Axes>"
      ]
     },
     "metadata": {},
     "output_type": "display_data"
    }
   ],
   "source": [
    "training_data.groupby(['behavioral_avoidance','opinion_seas_vacc_effective']).agg({'h1n1_vaccine': ['mean']}).plot.barh(legend =None, title = 'Vaccine Rates Among Groups of Avoidance and Belief of Effectiveness')"
   ]
  },
  {
   "cell_type": "code",
   "execution_count": 14,
   "id": "a30dd9bc",
   "metadata": {},
   "outputs": [],
   "source": [
    "regressor_adjusted = training_data"
   ]
  },
  {
   "cell_type": "markdown",
   "id": "bc876fe0",
   "metadata": {},
   "source": [
    "**Numerical Ranking of Categorical Variables**"
   ]
  },
  {
   "cell_type": "code",
   "execution_count": 15,
   "id": "89d7d0b1",
   "metadata": {},
   "outputs": [],
   "source": [
    "regressor_adjusted['age_group'] = regressor_adjusted['age_group'].replace('18 - 34 Years',1).replace('35 - 44 Years',2)\\\n",
    "                                 .replace('45 - 54 Years',3).replace('55 - 64 Years',4).replace('65+ Years',5)\n",
    "regressor_adjusted['education'] = regressor_adjusted['education'].replace('< 12 Years',1).replace('12 Years',2)\\\n",
    "                                  .replace('College Graduate',4).replace('Some College',3)\n",
    "regressor_adjusted['sex'] = regressor_adjusted['sex'].replace('Male',0).replace('Female',1)\n",
    "regressor_adjusted['income_poverty'] = regressor_adjusted['income_poverty'].replace('Below Poverty',1).replace\\\n",
    "                                        ('<= $75,000, Above Poverty',2).replace('> $75,000',3)\n",
    "regressor_adjusted['marital_status'] = regressor_adjusted['marital_status'].replace('Not Married',0).replace('Married',1)\n",
    "regressor_adjusted['employment_status'] = regressor_adjusted['employment_status'].replace('Not in Labor Force',0).\\\n",
    "                                           replace('Unemployed',1).replace('Employed',2)\n",
    "regressor_adjusted['census_msa'] = regressor_adjusted['census_msa'].replace('Non-MSA',0).replace('MSA, Not Principle  City'\\\n",
    "                                   ,1).replace('MSA, Principle City',2)\n",
    "regressor_adjusted['rent_or_own'] = regressor_adjusted['rent_or_own'].replace('Rent',0).replace('Own',1)"
   ]
  },
  {
   "cell_type": "markdown",
   "id": "1c8a060f",
   "metadata": {},
   "source": [
    "**One Hot Encoding for Non-Rankable Categorical Variables**"
   ]
  },
  {
   "cell_type": "code",
   "execution_count": 16,
   "id": "75ab1a30",
   "metadata": {},
   "outputs": [],
   "source": [
    "OneHotEncoder(\n",
    "    categories = 'auto',\n",
    "    drop = None,\n",
    "    sparse = True,\n",
    "    dtype = 'numpy.float64',\n",
    "    handle_unknown = 'error'\n",
    ")\n",
    "\n",
    "ohe = OneHotEncoder()"
   ]
  },
  {
   "cell_type": "code",
   "execution_count": 17,
   "id": "3c24b542",
   "metadata": {},
   "outputs": [],
   "source": [
    "encoded_employment_industry = ohe.fit_transform(regressor_adjusted[['employment_industry']]).toarray()\n",
    "encoded_employment_industry_titles = ohe.categories_[0]\n",
    "regressor_adjusted[encoded_employment_industry_titles] = encoded_employment_industry\n",
    "regressor_adjusted = regressor_adjusted.drop(['employment_industry'], axis = 1)"
   ]
  },
  {
   "cell_type": "code",
   "execution_count": 18,
   "id": "dff77042",
   "metadata": {},
   "outputs": [],
   "source": [
    "encoded_race = ohe.fit_transform(regressor_adjusted[['race']]).toarray()\n",
    "encoded_race_titles = ohe.categories_[0]\n",
    "regressor_adjusted[encoded_race_titles] = encoded_race\n",
    "regressor_adjusted = regressor_adjusted.drop(['race'],axis = 1)"
   ]
  },
  {
   "cell_type": "code",
   "execution_count": 19,
   "id": "0580ab90",
   "metadata": {},
   "outputs": [],
   "source": [
    "encoded_region = ohe.fit_transform(regressor_adjusted[['hhs_geo_region']]).toarray()\n",
    "encoded_region_titles = ohe.categories_[0]\n",
    "regressor_adjusted[encoded_region_titles] = encoded_region\n",
    "regressor_adjusted = regressor_adjusted.drop(['hhs_geo_region'],axis = 1)"
   ]
  },
  {
   "cell_type": "code",
   "execution_count": 20,
   "id": "b477f41e",
   "metadata": {},
   "outputs": [],
   "source": [
    "encoded_employment_occupation = ohe.fit_transform(regressor_adjusted[['employment_occupation']]).toarray()\n",
    "encoded_employment_occupation_titles = ohe.categories_[0]\n",
    "regressor_adjusted[encoded_employment_occupation_titles] = encoded_employment_occupation\n",
    "regressor_adjusted = regressor_adjusted.drop(['employment_occupation'],axis=1)"
   ]
  },
  {
   "cell_type": "code",
   "execution_count": 21,
   "id": "11b1f86d",
   "metadata": {},
   "outputs": [],
   "source": [
    "regressor_adjusted = regressor_adjusted.drop(['health_insurance'], axis=1)"
   ]
  },
  {
   "cell_type": "markdown",
   "id": "b0cea422",
   "metadata": {},
   "source": [
    "**Dealing with Null Values**"
   ]
  },
  {
   "cell_type": "code",
   "execution_count": 22,
   "id": "fb26c23e",
   "metadata": {},
   "outputs": [
    {
     "data": {
      "text/plain": [
       "respondent_id         0\n",
       "h1n1_vaccine          0\n",
       "seasonal_vaccine      0\n",
       "h1n1_concern         92\n",
       "h1n1_knowledge      116\n",
       "                   ... \n",
       "vlluhbov              0\n",
       "xgwztkwe              0\n",
       "xqwwgdyp              0\n",
       "xtkaffoo              0\n",
       "xzmlyyjv              0\n",
       "Length: 92, dtype: int64"
      ]
     },
     "execution_count": 22,
     "metadata": {},
     "output_type": "execute_result"
    }
   ],
   "source": [
    "regressor_adjusted.isnull().sum()"
   ]
  },
  {
   "cell_type": "code",
   "execution_count": 23,
   "id": "1c68334c",
   "metadata": {},
   "outputs": [],
   "source": [
    "def ReplaceNullWithMean(DataFrame,x):\n",
    "    i=0\n",
    "    while (i<len(x)):\n",
    "        DataFrame[x[i]] = DataFrame[x[i]].replace(np.NaN, DataFrame[x[i]].mean())\n",
    "        i= i+1"
   ]
  },
  {
   "cell_type": "code",
   "execution_count": 24,
   "id": "4f5396f5",
   "metadata": {},
   "outputs": [],
   "source": [
    "null1 = regressor_adjusted[regressor_adjusted.columns[regressor_adjusted.isnull().any()]]"
   ]
  },
  {
   "cell_type": "code",
   "execution_count": 25,
   "id": "356efdcf",
   "metadata": {},
   "outputs": [
    {
     "data": {
      "text/plain": [
       "Index(['h1n1_concern', 'h1n1_knowledge', 'behavioral_antiviral_meds',\n",
       "       'behavioral_avoidance', 'behavioral_face_mask', 'behavioral_wash_hands',\n",
       "       'behavioral_large_gatherings', 'behavioral_outside_home',\n",
       "       'behavioral_touch_face', 'doctor_recc_h1n1', 'doctor_recc_seasonal',\n",
       "       'chronic_med_condition', 'child_under_6_months', 'health_worker',\n",
       "       'opinion_h1n1_vacc_effective', 'opinion_h1n1_risk',\n",
       "       'opinion_h1n1_sick_from_vacc', 'opinion_seas_vacc_effective',\n",
       "       'opinion_seas_risk', 'opinion_seas_sick_from_vacc', 'education',\n",
       "       'income_poverty', 'marital_status', 'rent_or_own', 'employment_status',\n",
       "       'household_adults', 'household_children'],\n",
       "      dtype='object')"
      ]
     },
     "execution_count": 25,
     "metadata": {},
     "output_type": "execute_result"
    }
   ],
   "source": [
    "null1.columns"
   ]
  },
  {
   "cell_type": "code",
   "execution_count": 26,
   "id": "0f12309f",
   "metadata": {},
   "outputs": [],
   "source": [
    "ReplaceNullWithMean(regressor_adjusted,null1.columns)"
   ]
  },
  {
   "cell_type": "code",
   "execution_count": 27,
   "id": "36f87cfb",
   "metadata": {},
   "outputs": [],
   "source": [
    "null1 = regressor_adjusted[regressor_adjusted.columns[regressor_adjusted.isnull().any()]]"
   ]
  },
  {
   "cell_type": "code",
   "execution_count": 28,
   "id": "2664361d",
   "metadata": {},
   "outputs": [
    {
     "data": {
      "text/plain": [
       "Index([], dtype='object')"
      ]
     },
     "execution_count": 28,
     "metadata": {},
     "output_type": "execute_result"
    }
   ],
   "source": [
    "null1.columns"
   ]
  },
  {
   "cell_type": "code",
   "execution_count": 29,
   "id": "5400ecc0",
   "metadata": {},
   "outputs": [
    {
     "data": {
      "text/plain": [
       "(26707, 92)"
      ]
     },
     "execution_count": 29,
     "metadata": {},
     "output_type": "execute_result"
    }
   ],
   "source": [
    "regressor_adjusted.shape"
   ]
  },
  {
   "cell_type": "markdown",
   "id": "88fbf76b",
   "metadata": {},
   "source": [
    "**Regressor Creation**"
   ]
  },
  {
   "cell_type": "code",
   "execution_count": 30,
   "id": "6fce389d",
   "metadata": {},
   "outputs": [
    {
     "name": "stderr",
     "output_type": "stream",
     "text": [
      "C:\\Users\\Isabe\\anaconda3\\lib\\site-packages\\sklearn\\utils\\validation.py:1688: FutureWarning: Feature names only support names that are all strings. Got feature names with dtypes: ['float', 'str']. An error will be raised in 1.2.\n",
      "  warnings.warn(\n",
      "C:\\Users\\Isabe\\anaconda3\\lib\\site-packages\\sklearn\\utils\\validation.py:1688: FutureWarning: Feature names only support names that are all strings. Got feature names with dtypes: ['float', 'str']. An error will be raised in 1.2.\n",
      "  warnings.warn(\n"
     ]
    }
   ],
   "source": [
    "h1n1_y = regressor_adjusted.loc[:,'h1n1_vaccine']\n",
    "h1n1_X = regressor_adjusted.drop(['h1n1_vaccine'], axis = 1).drop(['seasonal_vaccine'], axis = 1)\n",
    "h1n1_X_train, h1n1_X_test, h1n1_y_train, h1n1_y_test = train_test_split(h1n1_X, h1n1_y, test_size = 0.20)\n",
    "h1n1_regressor = RandomForestRegressor(n_estimators = 20, random_state = 0)\n",
    "h1n1_regressor.fit(h1n1_X_train, h1n1_y_train)\n",
    "h1n1_y_pred = h1n1_regressor.predict(h1n1_X_test)"
   ]
  },
  {
   "cell_type": "code",
   "execution_count": 31,
   "id": "92f18dfb",
   "metadata": {},
   "outputs": [
    {
     "name": "stderr",
     "output_type": "stream",
     "text": [
      "C:\\Users\\Isabe\\anaconda3\\lib\\site-packages\\sklearn\\utils\\validation.py:1688: FutureWarning: Feature names only support names that are all strings. Got feature names with dtypes: ['float', 'str']. An error will be raised in 1.2.\n",
      "  warnings.warn(\n",
      "C:\\Users\\Isabe\\anaconda3\\lib\\site-packages\\sklearn\\utils\\validation.py:1688: FutureWarning: Feature names only support names that are all strings. Got feature names with dtypes: ['float', 'str']. An error will be raised in 1.2.\n",
      "  warnings.warn(\n"
     ]
    }
   ],
   "source": [
    "seasonal_y = regressor_adjusted.loc[:,'seasonal_vaccine']\n",
    "seasonal_X = regressor_adjusted.drop(['h1n1_vaccine'], axis = 1).drop(['seasonal_vaccine'], axis = 1)\n",
    "seasonal_X_train, seasonal_X_test, seasonal_y_train, seasonal_y_test = train_test_split(seasonal_X, seasonal_y, test_size = 0.20)\n",
    "seasonal_regressor = RandomForestRegressor(n_estimators = 20, random_state = 0)\n",
    "seasonal_regressor.fit(seasonal_X_train, seasonal_y_train)\n",
    "seasonal_y_pred = seasonal_regressor.predict(seasonal_X_test)"
   ]
  },
  {
   "cell_type": "markdown",
   "id": "24a87be8",
   "metadata": {},
   "source": [
    "**Performance of Regressors**"
   ]
  },
  {
   "cell_type": "code",
   "execution_count": 32,
   "id": "687a9c24",
   "metadata": {},
   "outputs": [
    {
     "name": "stdout",
     "output_type": "stream",
     "text": [
      "H1N1 Mean Absolute Error: 0.24043429427180832\n",
      "H1N1 Mean Squared Error: 0.12489142643204791\n",
      "H1N1 Root Mean Squared Error: 0.3533998110243523\n",
      "===============================================================================\n",
      "Seasonal Mean Absolute Error: 0.31736241108199176\n",
      "Seasonal Mean Squared Error: 0.16820619618120555\n",
      "Seasonal Root Mean Squared Error: 0.4101294870906084\n"
     ]
    }
   ],
   "source": [
    "print('H1N1 Mean Absolute Error:', metrics.mean_absolute_error(h1n1_y_test,h1n1_y_pred))\n",
    "print('H1N1 Mean Squared Error:', metrics.mean_squared_error(h1n1_y_test,h1n1_y_pred))\n",
    "print('H1N1 Root Mean Squared Error:', np.sqrt(metrics.mean_squared_error(h1n1_y_test,h1n1_y_pred)))\n",
    "print('===============================================================================')\n",
    "print('Seasonal Mean Absolute Error:', metrics.mean_absolute_error(seasonal_y_test,seasonal_y_pred))\n",
    "print('Seasonal Mean Squared Error:', metrics.mean_squared_error(seasonal_y_test,seasonal_y_pred))\n",
    "print('Seasonal Root Mean Squared Error:', np.sqrt(metrics.mean_squared_error(seasonal_y_test,seasonal_y_pred)))"
   ]
  },
  {
   "cell_type": "markdown",
   "id": "7c810583",
   "metadata": {},
   "source": [
    "**Prep Data for Test**"
   ]
  },
  {
   "cell_type": "code",
   "execution_count": 47,
   "id": "a24e232f",
   "metadata": {},
   "outputs": [],
   "source": [
    "test_set = test_set_features"
   ]
  },
  {
   "cell_type": "code",
   "execution_count": 48,
   "id": "db6bbb8f",
   "metadata": {},
   "outputs": [],
   "source": [
    "test_set['age_group'] = test_set['age_group'].replace('18 - 34 Years',1).replace('35 - 44 Years',2)\\\n",
    "                                 .replace('45 - 54 Years',3).replace('55 - 64 Years',4).replace('65+ Years',5)\n",
    "test_set['education'] = test_set['education'].replace('< 12 Years',1).replace('12 Years',2)\\\n",
    "                                  .replace('College Graduate',4).replace('Some College',3)\n",
    "test_set['sex'] = test_set['sex'].replace('Male',0).replace('Female',1)\n",
    "test_set['income_poverty'] = test_set['income_poverty'].replace('Below Poverty',1).replace\\\n",
    "                                        ('<= $75,000, Above Poverty',2).replace('> $75,000',3)\n",
    "test_set['marital_status'] = test_set['marital_status'].replace('Not Married',0).replace('Married',1)\n",
    "test_set['employment_status'] = test_set['employment_status'].replace('Not in Labor Force',0).\\\n",
    "                                           replace('Unemployed',1).replace('Employed',2)\n",
    "test_set['census_msa'] = test_set['census_msa'].replace('Non-MSA',0).replace('MSA, Not Principle  City'\\\n",
    "                                   ,1).replace('MSA, Principle City',2)\n",
    "test_set['rent_or_own'] = test_set['rent_or_own'].replace('Rent',0).replace('Own',1)\n",
    "\n",
    "encoded_employment_industry = ohe.fit_transform(test_set[['employment_industry']]).toarray()\n",
    "encoded_employment_industry_titles = ohe.categories_[0]\n",
    "test_set[encoded_employment_industry_titles] = encoded_employment_industry\n",
    "test_set = test_set.drop(['employment_industry'], axis = 1)\n",
    "\n",
    "\n",
    "encoded_race = ohe.fit_transform(test_set[['race']]).toarray()\n",
    "encoded_race_titles = ohe.categories_[0]\n",
    "test_set[encoded_race_titles] = encoded_race\n",
    "test_set = test_set.drop(['race'],axis = 1)\n",
    "\n",
    "encoded_region = ohe.fit_transform(test_set[['hhs_geo_region']]).toarray()\n",
    "encoded_region_titles = ohe.categories_[0]\n",
    "test_set[encoded_region_titles] = encoded_region\n",
    "test_set = test_set.drop(['hhs_geo_region'],axis = 1)\n",
    "\n",
    "encoded_employment_occupation = ohe.fit_transform(test_set[['employment_occupation']]).toarray()\n",
    "encoded_employment_occupation_titles = ohe.categories_[0]\n",
    "test_set[encoded_employment_occupation_titles] = encoded_employment_occupation\n",
    "test_set = test_set.drop(['employment_occupation'],axis=1)\n",
    "\n",
    "test_set = test_set.drop(['health_insurance'], axis=1)"
   ]
  },
  {
   "cell_type": "code",
   "execution_count": 49,
   "id": "02c861d9",
   "metadata": {},
   "outputs": [
    {
     "name": "stdout",
     "output_type": "stream",
     "text": [
      "51\n",
      "53\n"
     ]
    }
   ],
   "source": [
    "print(test_set.columns.get_loc( 'xqicxuve'))\n",
    "print(test_set.columns.get_loc( 'Black'))"
   ]
  },
  {
   "cell_type": "code",
   "execution_count": 50,
   "id": "98a7612d",
   "metadata": {},
   "outputs": [],
   "source": [
    "null2 = test_set[test_set.columns[test_set.isnull().any()]]"
   ]
  },
  {
   "cell_type": "code",
   "execution_count": 51,
   "id": "0811c94d",
   "metadata": {},
   "outputs": [],
   "source": [
    "ReplaceNullWithMean(test_set,null2.columns)"
   ]
  },
  {
   "cell_type": "code",
   "execution_count": 52,
   "id": "8925ea06",
   "metadata": {},
   "outputs": [],
   "source": [
    "null2 = test_set[test_set.columns[test_set.isnull().any()]]"
   ]
  },
  {
   "cell_type": "code",
   "execution_count": 53,
   "id": "c511e9b2",
   "metadata": {},
   "outputs": [
    {
     "data": {
      "text/plain": [
       "Index([], dtype='object')"
      ]
     },
     "execution_count": 53,
     "metadata": {},
     "output_type": "execute_result"
    }
   ],
   "source": [
    "null2.columns"
   ]
  },
  {
   "cell_type": "code",
   "execution_count": 54,
   "id": "b950fa5a",
   "metadata": {},
   "outputs": [],
   "source": [
    "#test_set=test_set.drop(test_set.columns[52], axis=1)"
   ]
  },
  {
   "cell_type": "code",
   "execution_count": 55,
   "id": "9ac9759f",
   "metadata": {},
   "outputs": [
    {
     "data": {
      "text/plain": [
       "(26708, 90)"
      ]
     },
     "execution_count": 55,
     "metadata": {},
     "output_type": "execute_result"
    }
   ],
   "source": [
    "test_set.shape"
   ]
  },
  {
   "cell_type": "code",
   "execution_count": 56,
   "id": "fca01eea",
   "metadata": {},
   "outputs": [
    {
     "name": "stderr",
     "output_type": "stream",
     "text": [
      "C:\\Users\\Isabe\\anaconda3\\lib\\site-packages\\sklearn\\utils\\validation.py:1688: FutureWarning: Feature names only support names that are all strings. Got feature names with dtypes: ['float', 'str']. An error will be raised in 1.2.\n",
      "  warnings.warn(\n",
      "C:\\Users\\Isabe\\anaconda3\\lib\\site-packages\\sklearn\\utils\\validation.py:1688: FutureWarning: Feature names only support names that are all strings. Got feature names with dtypes: ['float', 'str']. An error will be raised in 1.2.\n",
      "  warnings.warn(\n"
     ]
    }
   ],
   "source": [
    "test_h1n1 = h1n1_regressor.predict(test_set)\n",
    "test_seasonal = seasonal_regressor.predict(test_set)"
   ]
  },
  {
   "cell_type": "code",
   "execution_count": 57,
   "id": "038b98aa",
   "metadata": {},
   "outputs": [
    {
     "data": {
      "text/plain": [
       "array([0.2 , 0.15, 0.4 , ..., 0.3 , 0.35, 0.4 ])"
      ]
     },
     "execution_count": 57,
     "metadata": {},
     "output_type": "execute_result"
    }
   ],
   "source": [
    "test_h1n1"
   ]
  },
  {
   "cell_type": "code",
   "execution_count": 58,
   "id": "440eb5cd",
   "metadata": {},
   "outputs": [
    {
     "data": {
      "text/plain": [
       "array([0.3 , 0.2 , 0.65, ..., 0.35, 0.45, 0.6 ])"
      ]
     },
     "execution_count": 58,
     "metadata": {},
     "output_type": "execute_result"
    }
   ],
   "source": [
    "test_seasonal"
   ]
  },
  {
   "cell_type": "code",
   "execution_count": 59,
   "id": "f699cc4f",
   "metadata": {},
   "outputs": [],
   "source": [
    "submission = test_set_features['respondent_id']"
   ]
  },
  {
   "cell_type": "code",
   "execution_count": 60,
   "id": "ce7f818e",
   "metadata": {},
   "outputs": [],
   "source": [
    "submission = pd.DataFrame().assign(respondent_id=test_set_features['respondent_id'], h1n1_vaccine=test_h1n1, seasonal_vaccine=test_seasonal )"
   ]
  },
  {
   "cell_type": "code",
   "execution_count": 61,
   "id": "4c447947",
   "metadata": {},
   "outputs": [
    {
     "data": {
      "text/html": [
       "<div>\n",
       "<style scoped>\n",
       "    .dataframe tbody tr th:only-of-type {\n",
       "        vertical-align: middle;\n",
       "    }\n",
       "\n",
       "    .dataframe tbody tr th {\n",
       "        vertical-align: top;\n",
       "    }\n",
       "\n",
       "    .dataframe thead th {\n",
       "        text-align: right;\n",
       "    }\n",
       "</style>\n",
       "<table border=\"1\" class=\"dataframe\">\n",
       "  <thead>\n",
       "    <tr style=\"text-align: right;\">\n",
       "      <th></th>\n",
       "      <th>respondent_id</th>\n",
       "      <th>h1n1_vaccine</th>\n",
       "      <th>seasonal_vaccine</th>\n",
       "    </tr>\n",
       "  </thead>\n",
       "  <tbody>\n",
       "    <tr>\n",
       "      <th>0</th>\n",
       "      <td>26707</td>\n",
       "      <td>0.20</td>\n",
       "      <td>0.30</td>\n",
       "    </tr>\n",
       "    <tr>\n",
       "      <th>1</th>\n",
       "      <td>26708</td>\n",
       "      <td>0.15</td>\n",
       "      <td>0.20</td>\n",
       "    </tr>\n",
       "    <tr>\n",
       "      <th>2</th>\n",
       "      <td>26709</td>\n",
       "      <td>0.40</td>\n",
       "      <td>0.65</td>\n",
       "    </tr>\n",
       "    <tr>\n",
       "      <th>3</th>\n",
       "      <td>26710</td>\n",
       "      <td>0.35</td>\n",
       "      <td>0.95</td>\n",
       "    </tr>\n",
       "    <tr>\n",
       "      <th>4</th>\n",
       "      <td>26711</td>\n",
       "      <td>0.60</td>\n",
       "      <td>0.35</td>\n",
       "    </tr>\n",
       "    <tr>\n",
       "      <th>...</th>\n",
       "      <td>...</td>\n",
       "      <td>...</td>\n",
       "      <td>...</td>\n",
       "    </tr>\n",
       "    <tr>\n",
       "      <th>26703</th>\n",
       "      <td>53410</td>\n",
       "      <td>0.45</td>\n",
       "      <td>0.25</td>\n",
       "    </tr>\n",
       "    <tr>\n",
       "      <th>26704</th>\n",
       "      <td>53411</td>\n",
       "      <td>0.40</td>\n",
       "      <td>0.60</td>\n",
       "    </tr>\n",
       "    <tr>\n",
       "      <th>26705</th>\n",
       "      <td>53412</td>\n",
       "      <td>0.30</td>\n",
       "      <td>0.35</td>\n",
       "    </tr>\n",
       "    <tr>\n",
       "      <th>26706</th>\n",
       "      <td>53413</td>\n",
       "      <td>0.35</td>\n",
       "      <td>0.45</td>\n",
       "    </tr>\n",
       "    <tr>\n",
       "      <th>26707</th>\n",
       "      <td>53414</td>\n",
       "      <td>0.40</td>\n",
       "      <td>0.60</td>\n",
       "    </tr>\n",
       "  </tbody>\n",
       "</table>\n",
       "<p>26708 rows × 3 columns</p>\n",
       "</div>"
      ],
      "text/plain": [
       "       respondent_id  h1n1_vaccine  seasonal_vaccine\n",
       "0              26707          0.20              0.30\n",
       "1              26708          0.15              0.20\n",
       "2              26709          0.40              0.65\n",
       "3              26710          0.35              0.95\n",
       "4              26711          0.60              0.35\n",
       "...              ...           ...               ...\n",
       "26703          53410          0.45              0.25\n",
       "26704          53411          0.40              0.60\n",
       "26705          53412          0.30              0.35\n",
       "26706          53413          0.35              0.45\n",
       "26707          53414          0.40              0.60\n",
       "\n",
       "[26708 rows x 3 columns]"
      ]
     },
     "execution_count": 61,
     "metadata": {},
     "output_type": "execute_result"
    }
   ],
   "source": [
    "submission"
   ]
  },
  {
   "cell_type": "code",
   "execution_count": 62,
   "id": "49515c2a",
   "metadata": {},
   "outputs": [],
   "source": [
    "submission.to_csv(r'C:\\Users\\Isabe\\submission1.csv', index=False)"
   ]
  },
  {
   "cell_type": "code",
   "execution_count": null,
   "id": "198d0d44",
   "metadata": {},
   "outputs": [],
   "source": []
  }
 ],
 "metadata": {
  "kernelspec": {
   "display_name": "Python 3 (ipykernel)",
   "language": "python",
   "name": "python3"
  },
  "language_info": {
   "codemirror_mode": {
    "name": "ipython",
    "version": 3
   },
   "file_extension": ".py",
   "mimetype": "text/x-python",
   "name": "python",
   "nbconvert_exporter": "python",
   "pygments_lexer": "ipython3",
   "version": "3.9.12"
  }
 },
 "nbformat": 4,
 "nbformat_minor": 5
}
